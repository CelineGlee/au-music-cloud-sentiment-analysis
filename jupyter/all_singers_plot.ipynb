{
 "cells": [
  {
   "cell_type": "code",
   "execution_count": null,
   "id": "2682cbf0",
   "metadata": {},
   "outputs": [
    {
     "ename": "SyntaxError",
     "evalue": "invalid non-printable character U+00A0 (3911603724.py, line 1)",
     "output_type": "error",
     "traceback": [
      "  \u001b[36mCell\u001b[39m\u001b[36m \u001b[39m\u001b[32mIn[15]\u001b[39m\u001b[32m, line 1\u001b[39m\n\u001b[31m    \u001b[39m\u001b[31mAdam McMillan 1393533\u001b[39m\n                         ^\n\u001b[31mSyntaxError\u001b[39m\u001b[31m:\u001b[39m invalid non-printable character U+00A0\n"
     ]
    }
   ],
   "source": [
    "'''\n",
    "\n",
    "Team 81\n",
    "\n",
    "Adam McMillan 1393533\n",
    "Ryan Kuang 1547320\n",
    "Tim Shen 1673715\n",
    "Yili Liu 883012\n",
    "Yuting Cai 1492060\n",
    "\n",
    "'''"
   ]
  },
  {
   "cell_type": "markdown",
   "id": "9326b22e",
   "metadata": {},
   "source": [
    "### 1. Package Dependencies\n",
    "\n",
    "Importing the following packages allows running all cells in this notebook."
   ]
  },
  {
   "cell_type": "code",
   "execution_count": 2,
   "id": "a131d794",
   "metadata": {},
   "outputs": [],
   "source": [
    "# Standard library\n",
    "import json  # For working with JSON data\n",
    "import math  # For mathematical functions like log\n",
    "import warnings  # For controlling warning messages\n",
    "from pprint import pprint  # For printing jsons by lines\n",
    "from datetime import datetime  # For working with date and time objects\n",
    "\n",
    "# Third-party libraries\n",
    "import requests  # For making HTTP requests\n",
    "from requests.auth import HTTPBasicAuth  # For handling basic HTTP authentication\n",
    "from urllib3.exceptions import InsecureRequestWarning  # For suppressing SSL warnings\n",
    "import pandas  # for structured data aggregation, eg. time-based grouping\n",
    "import numpy  # For numerical computing and array operations\n",
    "import matplotlib.pyplot as plt  # For plotting graphs and visualisations\n",
    "import matplotlib.patches as mpatches  # For creating custom plot elements like legends and shapes\n",
    "import plotly.express as px\n",
    "from scipy.stats import linregress  # For performing linear regression analysis\n",
    "from scipy.stats import ttest_ind  # For performing independent t-tests between two samples\n",
    "from dateutil.relativedelta import relativedelta  # For date manipulations with relative offsets"
   ]
  },
  {
   "cell_type": "markdown",
   "id": "22297732",
   "metadata": {},
   "source": [
    "### 2. Querying Artist Mention Counts via API\n",
    "\n",
    "Send a GET request to API endpoint '/mention-count-by-artist-final', while option to query Elasticsearch directly is also included but commented out.\n",
    "\n",
    "Either way, the query returns the total mention counts for each artist, stored into result_count_api as a JSON response. "
   ]
  },
  {
   "cell_type": "code",
   "execution_count": 3,
   "id": "ca45d672",
   "metadata": {},
   "outputs": [
    {
     "name": "stdout",
     "output_type": "stream",
     "text": [
      "{'international': [['`          Bruno Mars', 2],\n",
      "                   ['`           Lady Gaga', 29],\n",
      "                   ['`          The Weeknd', 1],\n",
      "                   ['`       Billie Eilish', 59],\n",
      "                   ['`            Coldplay', 34],\n",
      "                   ['`             Rihanna', 17],\n",
      "                   ['`      Kendrick Lamar', 29],\n",
      "                   ['`          Ed Sheeran', 35],\n",
      "                   ['`        Taylor Swift', 331],\n",
      "                   ['`           Bad Bunny', 4],\n",
      "                   ['`       Ariana Grande', 3],\n",
      "                   ['`               Drake', 42],\n",
      "                   ['`       Justin Bieber', 5],\n",
      "                   ['`                 SZA', 6],\n",
      "                   ['`        David Guetta', 1],\n",
      "                   ['`            Maroon 5', 0],\n",
      "                   ['`         Post Malone', 4],\n",
      "                   ['`       Calvin Harris', 1],\n",
      "                   ['`            Dua Lipa', 11],\n",
      "                   ['`              Eminem', 18],\n",
      "                   ['`            J Balvin', 0],\n",
      "                   ['`                 Sia', 68],\n",
      "                   ['`   Sabrina Carpenter', 20],\n",
      "                   ['`          Katy Perry', 47],\n",
      "                   ['`             Shakira', 4]],\n",
      " 'australia': [['`                 Sia', 68],\n",
      "               ['`       The Kid LAROI', 3],\n",
      "               ['`               AC/DC', 70],\n",
      "               ['`   Empire of the Sun', 4],\n",
      "               ['`         Tame Impala', 10],\n",
      "               ['`           Vance Joy', 0],\n",
      "               ['`         Troye Sivan', 6],\n",
      "               ['`               CYRIL', 12],\n",
      "               ['`      Chase Atlantic', 0],\n",
      "               ['` 5 Seconds of Summer', 0],\n",
      "               ['`          Dean Lewis', 3],\n",
      "               ['`               Gotye', 7],\n",
      "               ['`                PNAU', 2],\n",
      "               ['`       Kylie Minogue', 44]]}\n"
     ]
    }
   ],
   "source": [
    "warnings.simplefilter('ignore', InsecureRequestWarning)\n",
    "\n",
    "'''\n",
    "# Use ES to query\n",
    "url = \"https://localhost:9200/artists/_search\"\n",
    "auth = HTTPBasicAuth(\"elastic\", \"elastic\")\n",
    "'''\n",
    "\n",
    "# Use API to query\n",
    "headers = {\"Content-Type\": \"application/json\"}\n",
    "try:\n",
    "    response = requests.get(\n",
    "        \"http://localhost:9090/mention-count-by-artist-final\",\n",
    "        headers=headers,\n",
    "        verify=False\n",
    "    )\n",
    "    if response.status_code == 200:\n",
    "        count_via_api = response.json()\n",
    "        pprint(count_via_api, sort_dicts=False)\n",
    "    else:\n",
    "        print(f\"Error: {response.status_code} {response.text}\")\n",
    "        count_via_api = {}\n",
    "except Exception as e:\n",
    "    print(f\"Request failed: {str(e)}\")\n",
    "    count_via_api = {}"
   ]
  },
  {
   "cell_type": "markdown",
   "id": "20e28e08",
   "metadata": {},
   "source": [
    "### 3. Plot Total Count\n",
    "\n",
    "Logarithm taken to make all bars visible. "
   ]
  },
  {
   "cell_type": "code",
   "execution_count": 4,
   "id": "225b45b6",
   "metadata": {},
   "outputs": [
    {
     "data": {
      "image/png": "[encoded data removed]",
      "text/plain": [
       "<Figure size 1000x955 with 1 Axes>"
      ]
     },
     "metadata": {},
     "output_type": "display_data"
    },
    {
     "data": {
      "image/png": "[encoded data removed]",
      "text/plain": [
       "<Figure size 1000x570 with 1 Axes>"
      ]
     },
     "metadata": {},
     "output_type": "display_data"
    }
   ],
   "source": [
    "def plot_results(artist_list, title, x_limit):\n",
    "    artists = [artist for artist, _ in artist_list]\n",
    "    counts = [count for _, count in artist_list]\n",
    "\n",
    "    log_counts = [math.log2(c) if c > 1 else 0 for c in counts]\n",
    "    colors = ['orange' if c > 32 else 'skyblue' for c in counts]\n",
    "\n",
    "    plt.figure(figsize=(10, len(artists) * 0.35 + 0.8))\n",
    "    bars = plt.barh(artists, log_counts, color=colors, height=0.5)\n",
    "\n",
    "    plt.xlabel(\"Log2(Number of Posts)\", fontname='Menlo')\n",
    "    plt.title(title, fontname='Menlo')\n",
    "    plt.xlim(0, x_limit)\n",
    "    plt.yticks(fontname='Menlo')\n",
    "\n",
    "    for bar, count, log_count in zip(bars, counts, log_counts):\n",
    "        label = str(count)\n",
    "        plt.text(log_count + 0.1, bar.get_y() + bar.get_height() / 2, label, va='center', fontname='Menlo', fontsize=8)\n",
    "\n",
    "    plt.tight_layout()\n",
    "    plt.show()\n",
    "\n",
    "\n",
    "plot_results(count_via_api['international'], \"Post Count per Artist (Global)\", x_limit=9)\n",
    "plot_results(count_via_api['australia'], \"Post Count per Artist (Australia)\", x_limit=9)"
   ]
  },
  {
   "cell_type": "markdown",
   "id": "574755e9",
   "metadata": {},
   "source": [
    "### 4. Plot Monthly Listener Rank against Mention Count\n",
    "\n",
    "Does monthly listeners ranks of artists affect the amount of discussions? Do a linear regression to find out."
   ]
  },
  {
   "cell_type": "code",
   "execution_count": 5,
   "id": "91f43097",
   "metadata": {},
   "outputs": [
    {
     "name": "stdout",
     "output_type": "stream",
     "text": [
      "\n",
      "[Social Media Mentions vs Listening Rank (Global)]\n",
      "Slope: 1.085, Intercept: 16.740, R²: 0.0148, p-value: 0.5621\n",
      "Top residual outliers:\n",
      "`          Bruno Mars - Residual: 41.86, Rank: 25, Posts: 2\n",
      "`                 Sia - Residual: 46.92, Rank: 4, Posts: 68\n",
      "`        Taylor Swift - Residual: 295.82, Rank: 17, Posts: 331\n"
     ]
    },
    {
     "data": {
      "image/png": "[encoded data removed]",
      "text/plain": [
       "<Figure size 1000x500 with 1 Axes>"
      ]
     },
     "metadata": {},
     "output_type": "display_data"
    },
    {
     "name": "stdout",
     "output_type": "stream",
     "text": [
      "\n",
      "[Social Media Mentions vs Listening Rank (Australia)]\n",
      "Slope: 2.068, Intercept: 0.846, R²: 0.1204, p-value: 0.2242\n",
      "Top residual outliers:\n",
      "`                 Sia - Residual: 38.20, Rank: 14, Posts: 68\n",
      "`       Kylie Minogue - Residual: 41.09, Rank: 1, Posts: 44\n",
      "`               AC/DC - Residual: 44.34, Rank: 12, Posts: 70\n"
     ]
    },
    {
     "data": {
      "image/png": "[encoded data removed]",
      "text/plain": [
       "<Figure size 1000x500 with 1 Axes>"
      ]
     },
     "metadata": {},
     "output_type": "display_data"
    }
   ],
   "source": [
    "def plot_rank_vs_post_count(artist_list, title, outlier_count=3):\n",
    "    n = len(artist_list)\n",
    "    ranks = [n - i for i in range(n)]\n",
    "    counts = [count for _, count in artist_list]\n",
    "    names = [name for name, _ in artist_list]\n",
    "\n",
    "    xtick_labels = [f\"{name}, {rank}\" for name, rank in zip(names, ranks)]\n",
    "\n",
    "    # Regression analysis\n",
    "    slope, intercept, r_value, p_value, std_err = linregress(ranks, counts)\n",
    "    predictions = [slope * x + intercept for x in ranks]\n",
    "    residuals = [abs(actual - pred) for actual, pred in zip(counts, predictions)]\n",
    "    outlier_indices = numpy.argsort(residuals)[-outlier_count:]\n",
    "    print(f\"\\n[{title}]\")\n",
    "    print(f\"Slope: {slope:.3f}, Intercept: {intercept:.3f}, R²: {r_value**2:.4f}, p-value: {p_value:.4f}\")\n",
    "    print(\"Top residual outliers:\")\n",
    "    for i in outlier_indices:\n",
    "        print(f\"{names[i]} - Residual: {residuals[i]:.2f}, Rank: {ranks[i]}, Posts: {counts[i]}\")\n",
    "\n",
    "    # Plot\n",
    "    fig, ax = plt.subplots(figsize=(10, 5))\n",
    "    for i in range(n):\n",
    "        color = 'orange' if i in outlier_indices else 'skyblue'\n",
    "        ax.scatter(ranks[i], counts[i], color=color)\n",
    "\n",
    "    ax.plot(ranks, predictions, color='red', label=f'Regression line\\n$R^2$ = {r_value**2:.2f}')\n",
    "    ax.set_title(title, fontname='Menlo')\n",
    "    ax.set_xlabel(\"(Artists Count + 1 - Listeners Rank)\", fontname='Menlo')\n",
    "    ax.set_ylabel(\"Number of Posts\", fontname='Menlo')\n",
    "    ax.set_xticks(ranks)\n",
    "    ax.set_xticklabels(xtick_labels, rotation='vertical', fontname='Menlo')\n",
    "    ax.legend()\n",
    "    ax.grid(True)\n",
    "    plt.tight_layout()\n",
    "    plt.show()\n",
    "\n",
    "\n",
    "plot_rank_vs_post_count(count_via_api['international'], \"Social Media Mentions vs Listening Rank (Global)\")\n",
    "plot_rank_vs_post_count(count_via_api['australia'], \"Social Media Mentions vs Listening Rank (Australia)\")"
   ]
  },
  {
   "cell_type": "markdown",
   "id": "95d0a638",
   "metadata": {},
   "source": [
    "### 5. Get Artists with 5 Post or More\n",
    "\n",
    "Leaving out artists with too few mentions. Re-plot the counts just for reference."
   ]
  },
  {
   "cell_type": "code",
   "execution_count": 6,
   "id": "04140233",
   "metadata": {},
   "outputs": [
    {
     "name": "stdout",
     "output_type": "stream",
     "text": [
      "Filtered Global Artists (≥5 posts):\n",
      "[('`           Lady Gaga', 29),\n",
      " ('`       Billie Eilish', 59),\n",
      " ('`            Coldplay', 34),\n",
      " ('`             Rihanna', 17),\n",
      " ('`      Kendrick Lamar', 29),\n",
      " ('`          Ed Sheeran', 35),\n",
      " ('`        Taylor Swift', 331),\n",
      " ('`               Drake', 42),\n",
      " ('`       Justin Bieber', 5),\n",
      " ('`                 SZA', 6),\n",
      " ('`            Dua Lipa', 11),\n",
      " ('`              Eminem', 18),\n",
      " ('`                 Sia', 68),\n",
      " ('`   Sabrina Carpenter', 20),\n",
      " ('`          Katy Perry', 47)]\n",
      "15\n",
      "\n",
      "Filtered Australian Artists (≥5 posts):\n",
      "[('`                 Sia', 68),\n",
      " ('`               AC/DC', 70),\n",
      " ('`         Tame Impala', 10),\n",
      " ('`         Troye Sivan', 6),\n",
      " ('`               CYRIL', 12),\n",
      " ('`               Gotye', 7),\n",
      " ('`       Kylie Minogue', 44)]\n",
      "7\n"
     ]
    },
    {
     "data": {
      "image/png": "[encoded data removed]",
      "text/plain": [
       "<Figure size 1000x605 with 1 Axes>"
      ]
     },
     "metadata": {},
     "output_type": "display_data"
    },
    {
     "data": {
      "image/png": "[encoded data removed]",
      "text/plain": [
       "<Figure size 1000x325 with 1 Axes>"
      ]
     },
     "metadata": {},
     "output_type": "display_data"
    }
   ],
   "source": [
    "results_artists_5 = [(name, count) for name, count in count_via_api['international'] if count >= 5]\n",
    "results_artists_au_5 = [(name, count) for name, count in count_via_api['australia'] if count >= 5]\n",
    "\n",
    "print(\"Filtered Global Artists (≥5 posts):\")\n",
    "pprint(results_artists_5)\n",
    "print(len(results_artists_5))\n",
    "\n",
    "print(\"\\nFiltered Australian Artists (≥5 posts):\")\n",
    "pprint(results_artists_au_5)\n",
    "print(len(results_artists_au_5))\n",
    "\n",
    "plot_results(results_artists_5, \"Post Count per Artist (Global)\", x_limit=9)\n",
    "plot_results(results_artists_au_5, \"Post Count per Artist (Australia)\", x_limit=9)"
   ]
  },
  {
   "cell_type": "markdown",
   "id": "4202772b",
   "metadata": {},
   "source": [
    "### 6. Querying Artist Monthly Mention Trends via API\n",
    "\n",
    "Send a GET request to API endpoint '/artist-mention-counts-trend'.\n",
    "\n",
    "The query returns the  mention counts for each artist per month, stored into result_heatmap as a JSON response. "
   ]
  },
  {
   "cell_type": "code",
   "execution_count": 7,
   "id": "e5749370",
   "metadata": {},
   "outputs": [
    {
     "name": "stdout",
     "output_type": "stream",
     "text": [
      "{'mentions': {'5 Seconds of Summer': {},\n",
      "              'AC/DC': {'202212': 1,\n",
      "                        '202301': 0,\n",
      "                        '202302': 0,\n",
      "                        '202303': 1,\n",
      "                        '202304': 2,\n",
      "                        '202305': 1,\n",
      "                        '202306': 1,\n",
      "                        '202307': 3,\n",
      "                        '202308': 2,\n",
      "                        '202309': 3,\n",
      "                        '202310': 2,\n",
      "                        '202311': 3,\n",
      "                        '202312': 2,\n",
      "                        '202401': 4,\n",
      "                        '202402': 4,\n",
      "                        '202403': 3,\n",
      "                        '202404': 0,\n",
      "                        '202405': 1,\n",
      "                        '202406': 3,\n",
      "                        '202407': 3,\n",
      "                        '202408': 2,\n",
      "                        '202409': 1,\n",
      "                        '202410': 2,\n",
      "                        '202411': 2,\n",
      "                        '202412': 1,\n",
      "                        '202501': 8,\n",
      "                        '202502': 0,\n",
      "                        '202503': 1,\n",
      "                        '202504': 0,\n",
      "                        '202505': 1},\n",
      "              'Ariana Grande': {'202304': 1},\n",
      "              'Bad Bunny': {'202504': 3},\n",
      "              'Billie Eilish': {'202306': 1,\n",
      "                                '202307': 0,\n",
      "                                '202308': 2,\n",
      "                                '202309': 1,\n",
      "                                '202310': 1,\n",
      "                                '202311': 0,\n",
      "                                '202312': 1,\n",
      "                                '202401': 1,\n",
      "                                '202402': 0,\n",
      "                                '202403': 1,\n",
      "                                '202404': 2,\n",
      "                                '202405': 3,\n",
      "                                '202406': 0,\n",
      "                                '202407': 1,\n",
      "                                '202408': 3,\n",
      "                                '202409': 0,\n",
      "                                '202410': 2,\n",
      "                                '202411': 0,\n",
      "                                '202412': 1,\n",
      "                                '202501': 0,\n",
      "                                '202502': 1,\n",
      "                                '202503': 0,\n",
      "                                '202504': 0,\n",
      "                                '202505': 3},\n",
      "              'Bruno Mars': {'202409': 1,\n",
      "                             '202410': 0,\n",
      "                             '202411': 0,\n",
      "                             '202412': 0,\n",
      "                             '202501': 0,\n",
      "                             '202502': 0,\n",
      "                             '202503': 0,\n",
      "                             '202504': 1},\n",
      "              'CYRIL': {'202211': 1,\n",
      "                        '202212': 0,\n",
      "                        '202301': 0,\n",
      "                        '202302': 0,\n",
      "                        '202303': 4,\n",
      "                        '202304': 1,\n",
      "                        '202305': 1,\n",
      "                        '202306': 0,\n",
      "                        '202307': 0,\n",
      "                        '202308': 2,\n",
      "                        '202309': 0,\n",
      "                        '202310': 0,\n",
      "                        '202311': 0,\n",
      "                        '202312': 0,\n",
      "                        '202401': 0,\n",
      "                        '202402': 0,\n",
      "                        '202403': 0,\n",
      "                        '202404': 1,\n",
      "                        '202405': 0,\n",
      "                        '202406': 0,\n",
      "                        '202407': 1,\n",
      "                        '202408': 0,\n",
      "                        '202409': 0,\n",
      "                        '202410': 0,\n",
      "                        '202411': 0,\n",
      "                        '202412': 0,\n",
      "                        '202501': 0,\n",
      "                        '202502': 0,\n",
      "                        '202503': 1},\n",
      "              'Calvin Harris': {'202301': 1},\n",
      "              'Chase Atlantic': {},\n",
      "              'Coldplay': {'202211': 1,\n",
      "                           '202212': 0,\n",
      "                           '202301': 0,\n",
      "                           '202302': 0,\n",
      "                           '202303': 0,\n",
      "                           '202304': 2,\n",
      "                           '202305': 1,\n",
      "                           '202306': 2,\n",
      "                           '202307': 1,\n",
      "                           '202308': 0,\n",
      "                           '202309': 0,\n",
      "                           '202310': 3,\n",
      "                           '202311': 3,\n",
      "                           '202312': 0,\n",
      "                           '202401': 0,\n",
      "                           '202402': 1,\n",
      "                           '202403': 1,\n",
      "                           '202404': 0,\n",
      "                           '202405': 0,\n",
      "                           '202406': 0,\n",
      "                           '202407': 0,\n",
      "                           '202408': 1,\n",
      "                           '202409': 1,\n",
      "                           '202410': 3,\n",
      "                           '202411': 9,\n",
      "                           '202412': 1,\n",
      "                           '202501': 1,\n",
      "                           '202502': 1,\n",
      "                           '202503': 1,\n",
      "                           '202504': 1},\n",
      "              'David Guetta': {'202308': 1},\n",
      "              'Dean Lewis': {'202211': 3},\n",
      "              'Drake': {'202303': 1,\n",
      "                        '202304': 3,\n",
      "                        '202305': 2,\n",
      "                        '202306': 0,\n",
      "                        '202307': 1,\n",
      "                        '202308': 0,\n",
      "                        '202309': 1,\n",
      "                        '202310': 1,\n",
      "                        '202311': 1,\n",
      "                        '202312': 3,\n",
      "                        '202401': 0,\n",
      "                        '202402': 3,\n",
      "                        '202403': 2,\n",
      "                        '202404': 2,\n",
      "                        '202405': 4,\n",
      "                        '202406': 4,\n",
      "                        '202407': 1,\n",
      "                        '202408': 1,\n",
      "                        '202409': 2,\n",
      "                        '202410': 0,\n",
      "                        '202411': 0,\n",
      "                        '202412': 3,\n",
      "                        '202501': 1,\n",
      "                        '202502': 2,\n",
      "                        '202503': 3,\n",
      "                        '202504': 1},\n",
      "              'Dua Lipa': {'202308': 1,\n",
      "                           '202309': 1,\n",
      "                           '202310': 0,\n",
      "                           '202311': 1,\n",
      "                           '202312': 0,\n",
      "                           '202401': 2,\n",
      "                           '202402': 0,\n",
      "                           '202403': 0,\n",
      "                           '202404': 0,\n",
      "                           '202405': 1,\n",
      "                           '202406': 0,\n",
      "                           '202407': 0,\n",
      "                           '202408': 0,\n",
      "                           '202409': 0,\n",
      "                           '202410': 0,\n",
      "                           '202411': 0,\n",
      "                           '202412': 0,\n",
      "                           '202501': 0,\n",
      "                           '202502': 0,\n",
      "                           '202503': 1,\n",
      "                           '202504': 0,\n",
      "                           '202505': 1},\n",
      "              'Ed Sheeran': {'202211': 1,\n",
      "                             '202212': 0,\n",
      "                             '202301': 0,\n",
      "                             '202302': 1,\n",
      "                             '202303': 7,\n",
      "                             '202304': 4,\n",
      "                             '202305': 11,\n",
      "                             '202306': 1,\n",
      "                             '202307': 1,\n",
      "                             '202308': 0,\n",
      "                             '202309': 1,\n",
      "                             '202310': 2,\n",
      "                             '202311': 0,\n",
      "                             '202312': 0,\n",
      "                             '202401': 0,\n",
      "                             '202402': 0,\n",
      "                             '202403': 0,\n",
      "                             '202404': 1,\n",
      "                             '202405': 0,\n",
      "                             '202406': 2},\n",
      "              'Eminem': {'202302': 1,\n",
      "                         '202303': 0,\n",
      "                         '202304': 2,\n",
      "                         '202305': 1,\n",
      "                         '202306': 0,\n",
      "                         '202307': 1,\n",
      "                         '202308': 2,\n",
      "                         '202309': 1,\n",
      "                         '202310': 0,\n",
      "                         '202311': 0,\n",
      "                         '202312': 1,\n",
      "                         '202401': 0,\n",
      "                         '202402': 0,\n",
      "                         '202403': 0,\n",
      "                         '202404': 2,\n",
      "                         '202405': 1,\n",
      "                         '202406': 3,\n",
      "                         '202407': 0,\n",
      "                         '202408': 0,\n",
      "                         '202409': 1,\n",
      "                         '202410': 0,\n",
      "                         '202411': 0,\n",
      "                         '202412': 0,\n",
      "                         '202501': 0,\n",
      "                         '202502': 0,\n",
      "                         '202503': 0,\n",
      "                         '202504': 1,\n",
      "                         '202505': 1},\n",
      "              'Empire of the Sun': {'202307': 1,\n",
      "                                    '202308': 0,\n",
      "                                    '202309': 0,\n",
      "                                    '202310': 0,\n",
      "                                    '202311': 0,\n",
      "                                    '202312': 0,\n",
      "                                    '202401': 0,\n",
      "                                    '202402': 0,\n",
      "                                    '202403': 1,\n",
      "                                    '202404': 0,\n",
      "                                    '202405': 0,\n",
      "                                    '202406': 0,\n",
      "                                    '202407': 0,\n",
      "                                    '202408': 0,\n",
      "                                    '202409': 1,\n",
      "                                    '202410': 0,\n",
      "                                    '202411': 0,\n",
      "                                    '202412': 1},\n",
      "              'Gotye': {'202307': 1,\n",
      "                        '202308': 1,\n",
      "                        '202309': 0,\n",
      "                        '202310': 0,\n",
      "                        '202311': 0,\n",
      "                        '202312': 0,\n",
      "                        '202401': 0,\n",
      "                        '202402': 1,\n",
      "                        '202403': 2,\n",
      "                        '202404': 0,\n",
      "                        '202405': 0,\n",
      "                        '202406': 0,\n",
      "                        '202407': 1,\n",
      "                        '202408': 0,\n",
      "                        '202409': 0,\n",
      "                        '202410': 0,\n",
      "                        '202411': 0,\n",
      "                        '202412': 0,\n",
      "                        '202501': 0,\n",
      "                        '202502': 1},\n",
      "              'J Balvin': {},\n",
      "              'Justin Bieber': {'202403': 1,\n",
      "                                '202404': 0,\n",
      "                                '202405': 0,\n",
      "                                '202406': 0,\n",
      "                                '202407': 0,\n",
      "                                '202408': 0,\n",
      "                                '202409': 1},\n",
      "              'Katy Perry': {'202212': 1,\n",
      "                             '202301': 0,\n",
      "                             '202302': 0,\n",
      "                             '202303': 0,\n",
      "                             '202304': 1,\n",
      "                             '202305': 0,\n",
      "                             '202306': 0,\n",
      "                             '202307': 0,\n",
      "                             '202308': 0,\n",
      "                             '202309': 0,\n",
      "                             '202310': 0,\n",
      "                             '202311': 0,\n",
      "                             '202312': 1,\n",
      "                             '202401': 0,\n",
      "                             '202402': 2,\n",
      "                             '202403': 0,\n",
      "                             '202404': 3,\n",
      "                             '202405': 0,\n",
      "                             '202406': 1,\n",
      "                             '202407': 7,\n",
      "                             '202408': 0,\n",
      "                             '202409': 6,\n",
      "                             '202410': 1,\n",
      "                             '202411': 1,\n",
      "                             '202412': 0,\n",
      "                             '202501': 1,\n",
      "                             '202502': 1,\n",
      "                             '202503': 0,\n",
      "                             '202504': 18},\n",
      "              'Kendrick Lamar': {'202308': 1,\n",
      "                                 '202309': 0,\n",
      "                                 '202310': 0,\n",
      "                                 '202311': 1,\n",
      "                                 '202312': 0,\n",
      "                                 '202401': 0,\n",
      "                                 '202402': 1,\n",
      "                                 '202403': 0,\n",
      "                                 '202404': 1,\n",
      "                                 '202405': 1,\n",
      "                                 '202406': 0,\n",
      "                                 '202407': 0,\n",
      "                                 '202408': 1,\n",
      "                                 '202409': 0,\n",
      "                                 '202410': 0,\n",
      "                                 '202411': 1,\n",
      "                                 '202412': 0,\n",
      "                                 '202501': 0,\n",
      "                                 '202502': 2,\n",
      "                                 '202503': 4,\n",
      "                                 '202504': 0,\n",
      "                                 '202505': 1},\n",
      "              'Kylie Minogue': {'202301': 1,\n",
      "                                '202302': 0,\n",
      "                                '202303': 1,\n",
      "                                '202304': 1,\n",
      "                                '202305': 0,\n",
      "                                '202306': 3,\n",
      "                                '202307': 2,\n",
      "                                '202308': 1,\n",
      "                                '202309': 2,\n",
      "                                '202310': 0,\n",
      "                                '202311': 0,\n",
      "                                '202312': 1,\n",
      "                                '202401': 2,\n",
      "                                '202402': 1,\n",
      "                                '202403': 2,\n",
      "                                '202404': 0,\n",
      "                                '202405': 1,\n",
      "                                '202406': 0,\n",
      "                                '202407': 0,\n",
      "                                '202408': 0,\n",
      "                                '202409': 0,\n",
      "                                '202410': 1,\n",
      "                                '202411': 6,\n",
      "                                '202412': 10,\n",
      "                                '202501': 1,\n",
      "                                '202502': 3,\n",
      "                                '202503': 2,\n",
      "                                '202504': 2},\n",
      "              'Lady Gaga': {'202302': 1,\n",
      "                            '202303': 0,\n",
      "                            '202304': 0,\n",
      "                            '202305': 0,\n",
      "                            '202306': 1,\n",
      "                            '202307': 0,\n",
      "                            '202308': 0,\n",
      "                            '202309': 1,\n",
      "                            '202310': 1,\n",
      "                            '202311': 1,\n",
      "                            '202312': 0,\n",
      "                            '202401': 1,\n",
      "                            '202402': 1,\n",
      "                            '202403': 0,\n",
      "                            '202404': 1,\n",
      "                            '202405': 2,\n",
      "                            '202406': 0,\n",
      "                            '202407': 2,\n",
      "                            '202408': 0,\n",
      "                            '202409': 0,\n",
      "                            '202410': 2,\n",
      "                            '202411': 0,\n",
      "                            '202412': 1,\n",
      "                            '202501': 0,\n",
      "                            '202502': 1,\n",
      "                            '202503': 1,\n",
      "                            '202504': 2},\n",
      "              'Maroon 5': {},\n",
      "              'PNAU': {'202401': 1,\n",
      "                       '202402': 0,\n",
      "                       '202403': 0,\n",
      "                       '202404': 0,\n",
      "                       '202405': 0,\n",
      "                       '202406': 0,\n",
      "                       '202407': 0,\n",
      "                       '202408': 0,\n",
      "                       '202409': 0,\n",
      "                       '202410': 0,\n",
      "                       '202411': 0,\n",
      "                       '202412': 0,\n",
      "                       '202501': 0,\n",
      "                       '202502': 0,\n",
      "                       '202503': 0,\n",
      "                       '202504': 1},\n",
      "              'Post Malone': {'202302': 1,\n",
      "                              '202303': 0,\n",
      "                              '202304': 0,\n",
      "                              '202305': 0,\n",
      "                              '202306': 0,\n",
      "                              '202307': 0,\n",
      "                              '202308': 0,\n",
      "                              '202309': 0,\n",
      "                              '202310': 0,\n",
      "                              '202311': 0,\n",
      "                              '202312': 1,\n",
      "                              '202401': 0,\n",
      "                              '202402': 1,\n",
      "                              '202403': 0,\n",
      "                              '202404': 0,\n",
      "                              '202405': 0,\n",
      "                              '202406': 0,\n",
      "                              '202407': 0,\n",
      "                              '202408': 0,\n",
      "                              '202409': 0,\n",
      "                              '202410': 0,\n",
      "                              '202411': 0,\n",
      "                              '202412': 0,\n",
      "                              '202501': 0,\n",
      "                              '202502': 0,\n",
      "                              '202503': 0,\n",
      "                              '202504': 0,\n",
      "                              '202505': 1},\n",
      "              'Rihanna': {'202211': 1,\n",
      "                          '202212': 0,\n",
      "                          '202301': 0,\n",
      "                          '202302': 3,\n",
      "                          '202303': 1,\n",
      "                          '202304': 0,\n",
      "                          '202305': 0,\n",
      "                          '202306': 1,\n",
      "                          '202307': 1,\n",
      "                          '202308': 0,\n",
      "                          '202309': 1,\n",
      "                          '202310': 0,\n",
      "                          '202311': 1,\n",
      "                          '202312': 1,\n",
      "                          '202401': 0,\n",
      "                          '202402': 0,\n",
      "                          '202403': 0,\n",
      "                          '202404': 1,\n",
      "                          '202405': 2,\n",
      "                          '202406': 2,\n",
      "                          '202407': 1,\n",
      "                          '202408': 0,\n",
      "                          '202409': 0,\n",
      "                          '202410': 0,\n",
      "                          '202411': 0,\n",
      "                          '202412': 0,\n",
      "                          '202501': 0,\n",
      "                          '202502': 0,\n",
      "                          '202503': 1},\n",
      "              'SZA': {'202211': 1,\n",
      "                      '202212': 0,\n",
      "                      '202301': 1,\n",
      "                      '202302': 0,\n",
      "                      '202303': 0,\n",
      "                      '202304': 0,\n",
      "                      '202305': 0,\n",
      "                      '202306': 0,\n",
      "                      '202307': 0,\n",
      "                      '202308': 0,\n",
      "                      '202309': 0,\n",
      "                      '202310': 0,\n",
      "                      '202311': 0,\n",
      "                      '202312': 0,\n",
      "                      '202401': 0,\n",
      "                      '202402': 0,\n",
      "                      '202403': 0,\n",
      "                      '202404': 0,\n",
      "                      '202405': 0,\n",
      "                      '202406': 0,\n",
      "                      '202407': 1,\n",
      "                      '202408': 0,\n",
      "                      '202409': 0,\n",
      "                      '202410': 0,\n",
      "                      '202411': 0,\n",
      "                      '202412': 0,\n",
      "                      '202501': 0,\n",
      "                      '202502': 3},\n",
      "              'Sabrina Carpenter': {'202406': 1,\n",
      "                                    '202407': 0,\n",
      "                                    '202408': 0,\n",
      "                                    '202409': 0,\n",
      "                                    '202410': 0,\n",
      "                                    '202411': 2,\n",
      "                                    '202412': 0,\n",
      "                                    '202501': 0,\n",
      "                                    '202502': 1},\n",
      "              'Shakira': {'202307': 1,\n",
      "                          '202308': 2,\n",
      "                          '202309': 0,\n",
      "                          '202310': 0,\n",
      "                          '202311': 0,\n",
      "                          '202312': 0,\n",
      "                          '202401': 0,\n",
      "                          '202402': 0,\n",
      "                          '202403': 0,\n",
      "                          '202404': 0,\n",
      "                          '202405': 0,\n",
      "                          '202406': 0,\n",
      "                          '202407': 0,\n",
      "                          '202408': 0,\n",
      "                          '202409': 0,\n",
      "                          '202410': 1},\n",
      "              'Sia': {'202211': 1,\n",
      "                      '202212': 4,\n",
      "                      '202301': 2,\n",
      "                      '202302': 3,\n",
      "                      '202303': 6,\n",
      "                      '202304': 5,\n",
      "                      '202305': 6,\n",
      "                      '202306': 1,\n",
      "                      '202307': 4,\n",
      "                      '202308': 3,\n",
      "                      '202309': 1,\n",
      "                      '202310': 1,\n",
      "                      '202311': 3,\n",
      "                      '202312': 2,\n",
      "                      '202401': 1,\n",
      "                      '202402': 6,\n",
      "                      '202403': 0,\n",
      "                      '202404': 0,\n",
      "                      '202405': 1,\n",
      "                      '202406': 3,\n",
      "                      '202407': 1,\n",
      "                      '202408': 2,\n",
      "                      '202409': 1,\n",
      "                      '202410': 3,\n",
      "                      '202411': 0,\n",
      "                      '202412': 1,\n",
      "                      '202501': 3,\n",
      "                      '202502': 1,\n",
      "                      '202503': 2,\n",
      "                      '202504': 1},\n",
      "              'Tame Impala': {'202301': 1,\n",
      "                              '202302': 0,\n",
      "                              '202303': 2,\n",
      "                              '202304': 1,\n",
      "                              '202305': 0,\n",
      "                              '202306': 0,\n",
      "                              '202307': 1,\n",
      "                              '202308': 0,\n",
      "                              '202309': 0,\n",
      "                              '202310': 0,\n",
      "                              '202311': 0,\n",
      "                              '202312': 0,\n",
      "                              '202401': 0,\n",
      "                              '202402': 0,\n",
      "                              '202403': 0,\n",
      "                              '202404': 0,\n",
      "                              '202405': 1,\n",
      "                              '202406': 0,\n",
      "                              '202407': 0,\n",
      "                              '202408': 1,\n",
      "                              '202409': 0,\n",
      "                              '202410': 0,\n",
      "                              '202411': 0,\n",
      "                              '202412': 0,\n",
      "                              '202501': 1},\n",
      "              'Taylor Swift': {'202211': 1,\n",
      "                               '202212': 2,\n",
      "                               '202301': 3,\n",
      "                               '202302': 0,\n",
      "                               '202303': 4,\n",
      "                               '202304': 2,\n",
      "                               '202305': 3,\n",
      "                               '202306': 29,\n",
      "                               '202307': 15,\n",
      "                               '202308': 4,\n",
      "                               '202309': 5,\n",
      "                               '202310': 10,\n",
      "                               '202311': 11,\n",
      "                               '202312': 11,\n",
      "                               '202401': 15,\n",
      "                               '202402': 98,\n",
      "                               '202403': 18,\n",
      "                               '202404': 11,\n",
      "                               '202405': 6,\n",
      "                               '202406': 9,\n",
      "                               '202407': 3,\n",
      "                               '202408': 7,\n",
      "                               '202409': 10,\n",
      "                               '202410': 7,\n",
      "                               '202411': 4,\n",
      "                               '202412': 3,\n",
      "                               '202501': 3,\n",
      "                               '202502': 5,\n",
      "                               '202503': 0,\n",
      "                               '202504': 2,\n",
      "                               '202505': 2},\n",
      "              'The Kid LAROI': {'202409': 1},\n",
      "              'The Weeknd': {},\n",
      "              'Troye Sivan': {'202309': 1,\n",
      "                              '202310': 1,\n",
      "                              '202311': 0,\n",
      "                              '202312': 1,\n",
      "                              '202401': 2,\n",
      "                              '202402': 0,\n",
      "                              '202403': 0,\n",
      "                              '202404': 0,\n",
      "                              '202405': 0,\n",
      "                              '202406': 0,\n",
      "                              '202407': 0,\n",
      "                              '202408': 0,\n",
      "                              '202409': 0,\n",
      "                              '202410': 0,\n",
      "                              '202411': 0,\n",
      "                              '202412': 0,\n",
      "                              '202501': 0,\n",
      "                              '202502': 1},\n",
      "              'Vance Joy': {}}}\n",
      "38\n"
     ]
    }
   ],
   "source": [
    "warnings.simplefilter('ignore', InsecureRequestWarning)\n",
    "\n",
    "# Analyser connection\n",
    "headers = {\"Content-Type\": \"application/json\"}\n",
    "try:\n",
    "    response = requests.get(\n",
    "        \"http://localhost:9090/artist-mention-counts-trend\",\n",
    "        headers=headers,\n",
    "        verify=False\n",
    "    )\n",
    "    if response.status_code == 200:\n",
    "        result_heatmap = response.json()\n",
    "        pprint(result_heatmap, sort_dicts=False)\n",
    "        print(len(result_heatmap[\"mentions\"]))\n",
    "    else:\n",
    "        print(f\"Error: {response.status_code} {response.text}\")\n",
    "        result_heatmap = 0\n",
    "except Exception as e:\n",
    "    print(f\"Request failed: {str(e)}\")\n",
    "    result = 0"
   ]
  },
  {
   "cell_type": "markdown",
   "id": "bd5ffead",
   "metadata": {},
   "source": [
    "### 7. Organise Data into Lists Containing Names and Series of Monthly Post Counts in Sequence"
   ]
  },
  {
   "cell_type": "code",
   "execution_count": 8,
   "id": "d4ca4a7b",
   "metadata": {},
   "outputs": [
    {
     "name": "stdout",
     "output_type": "stream",
     "text": [
      "15\n",
      "15\n",
      "7\n",
      "7\n"
     ]
    }
   ],
   "source": [
    "start_month = datetime.strptime(\"2022-10\", \"%Y-%m\")\n",
    "end_month = datetime.strptime(\"2025-05\", \"%Y-%m\")\n",
    "\n",
    "# List of months in interest\n",
    "months = []\n",
    "cur = start_month\n",
    "while cur <= end_month:\n",
    "    months.append(cur.strftime(\"%Y%m\"))\n",
    "    cur += relativedelta(months=1)\n",
    "\n",
    "# Global artists mentions\n",
    "mention_monthly = []\n",
    "artist_labels_global = []\n",
    "for name_raw, _ in results_artists_5:\n",
    "    name = name_raw.strip(\" `\")\n",
    "    mention_monthly.append(result_heatmap[\"mentions\"].get(name, {}))\n",
    "    artist_labels_global.append(name_raw)\n",
    "\n",
    "# AU artists mentions\n",
    "mention_au_monthly = []\n",
    "artist_labels_au = []\n",
    "for name_raw, _ in results_artists_au_5:\n",
    "    name = name_raw.strip(\" `\")\n",
    "    mention_au_monthly.append(result_heatmap[\"mentions\"].get(name, {}))\n",
    "    artist_labels_au.append(name_raw)\n",
    "\n",
    "print(len(mention_monthly))\n",
    "print(len(artist_labels_global))\n",
    "print(len(mention_au_monthly))\n",
    "print(len(artist_labels_au))"
   ]
  },
  {
   "cell_type": "markdown",
   "id": "2dd2cc44",
   "metadata": {},
   "source": [
    "### 8. Plot Monthly Mentions per Artist into Heatmap"
   ]
  },
  {
   "cell_type": "code",
   "execution_count": 9,
   "id": "c66e0ea5",
   "metadata": {},
   "outputs": [
    {
     "data": {
      "image/png": "[encoded data removed]",
      "text/plain": [
       "<Figure size 1000x470 with 1 Axes>"
      ]
     },
     "metadata": {},
     "output_type": "display_data"
    },
    {
     "data": {
      "image/png": "[encoded data removed]",
      "text/plain": [
       "<Figure size 1000x278 with 1 Axes>"
      ]
     },
     "metadata": {},
     "output_type": "display_data"
    }
   ],
   "source": [
    "def get_color(value):\n",
    "    if value == 0:\n",
    "        return \"#e0f7fa\"\n",
    "    elif value == 1:\n",
    "        return \"#90caf9\"\n",
    "    elif value == 2:\n",
    "        return \"#64b5f6\"\n",
    "    elif value == 3:\n",
    "        return \"#9575cd\"\n",
    "    elif value == 4:\n",
    "        return \"#ffb74d\"\n",
    "    elif value == 5:\n",
    "        return \"#ff8a65\"\n",
    "    elif 6 <= value <= 10:\n",
    "        return \"#f06292\"\n",
    "    else:\n",
    "        return \"#d32f2f\"\n",
    "\n",
    "def plot_heatmap(mentions_list, artist_labels, title=\"\"):\n",
    "    num_artists = len(mentions_list)  # Number of rows\n",
    "    num_months = len(months)  # Number of columns\n",
    "\n",
    "    # Initialise a 2D array to store mention counts per artist per month\n",
    "    grid_counts = numpy.zeros((num_artists, num_months), dtype=int)\n",
    "\n",
    "    # Populate the grid with counts from the input list of dictionaries\n",
    "    for i, counts in enumerate(mentions_list):\n",
    "        for j, month in enumerate(months):\n",
    "            grid_counts[i, j] = counts.get(month, 0)  # Get count and handle KeyError\n",
    "    # print(grid_counts)  # Check the matrix to be mapped into colors\n",
    "    # Set up the figure and axes for plotting\n",
    "    fig, ax = plt.subplots(figsize=(10, num_artists * 0.24 + 1.1))\n",
    "\n",
    "    # Draw each rectangle of the heatmap\n",
    "    for row in range(num_artists):\n",
    "        for col in range(num_months):\n",
    "            val = grid_counts[row, col]\n",
    "            color = get_color(val)  # Map count to a colour\n",
    "            # Add a coloured rectangle to the plot at the correct position\n",
    "            rect = plt.Rectangle((col, row), 1, 1, facecolor=color, edgecolor=\"white\", lw=0.5)\n",
    "            ax.add_patch(rect)\n",
    "\n",
    "    # Set plot limits\n",
    "    ax.set_xlim(0, num_months)\n",
    "    ax.set_ylim(0, num_artists)\n",
    "\n",
    "    # Set x-axis ticks at the centre of each cell and label them with months\n",
    "    ax.set_xticks([i + 0.5 for i in range(num_months)])\n",
    "    ax.set_xticklabels(months, rotation=90, fontsize=6, fontname='Menlo', ha='center')\n",
    "\n",
    "    # Set y-axis ticks at the centre of each row and label them with artist names\n",
    "    ax.set_yticks([i + 0.5 for i in range(num_artists)])\n",
    "    ax.set_yticklabels(artist_labels, fontsize=7, fontname='Menlo', va='center')\n",
    "\n",
    "    legend_labels = [\n",
    "        (\"0\", \"#e0f7fa\"),\n",
    "        (\"1\", \"#90caf9\"),\n",
    "        (\"2\", \"#64b5f6\"),\n",
    "        (\"3\", \"#9575cd\"),\n",
    "        (\"4\", \"#ffb74d\"),\n",
    "        (\"5\", \"#ff8a65\"),\n",
    "        (\"6-10\", \"#f06292\"),\n",
    "        (\"11+\", \"#d32f2f\"),\n",
    "    ]\n",
    "    # Create coloured legend patches\n",
    "    legend_handles = [mpatches.Patch(color=color, label=label) for label, color in legend_labels]\n",
    "\n",
    "    # Add legend to the plot\n",
    "    legend = ax.legend(\n",
    "        handles=legend_handles,\n",
    "        title=\"Count\",\n",
    "        title_fontsize=8,\n",
    "        fontsize=7,\n",
    "        bbox_to_anchor=(1.01, 1),\n",
    "        loc='upper left'\n",
    "    )\n",
    "\n",
    "    # Apply custom font to legend title and labels\n",
    "    plt.setp(legend.get_title(), fontname='Menlo')\n",
    "    for text in legend.get_texts():\n",
    "        text.set_fontname('Menlo')\n",
    "\n",
    "    # Set optional title if provided\n",
    "    if title:\n",
    "        ax.set_title(title, fontname='Menlo', fontsize=10)\n",
    "\n",
    "    # Add x-axis label\n",
    "    ax.set_xlabel(\"Month (YYYYMM)\", fontname='Menlo', fontsize=9)\n",
    "\n",
    "    # Automatically adjust layout to fit content\n",
    "    plt.tight_layout()\n",
    "    # Show the plot\n",
    "    plt.show()\n",
    "\n",
    "# Plot\n",
    "plot_heatmap(mention_monthly, artist_labels_global, title=\"Global Artists (≥5 posts)\")\n",
    "plot_heatmap(mention_au_monthly, artist_labels_au, title=\"Australian Artists (≥5 posts)\")"
   ]
  },
  {
   "cell_type": "markdown",
   "id": "a31d37dc",
   "metadata": {},
   "source": [
    "### 9. Query Sentiments of Posts Related to Keyword\n",
    "\n",
    "Since sentiment score is not directly stored in ES, querying from API endpoint only return a label (\"positivr\", \"neutral\", \"negative\").\n",
    "\n",
    "For the purpose of plotting a numerical score, qquerying directly from ES is more convenient for the following cells."
   ]
  },
  {
   "cell_type": "code",
   "execution_count": 10,
   "id": "d91f0404",
   "metadata": {},
   "outputs": [
    {
     "name": "stdout",
     "output_type": "stream",
     "text": [
      "{'109655577091090209': ('ladygaga',\n",
      "                        0.04311734437942505,\n",
      "                        0.33192208409309387,\n",
      "                        0.6249606013298035,\n",
      "                        0.6993963353968001,\n",
      "                        '2023-01-08'),\n",
      " '112498546372780506': ('ladygaga',\n",
      "                        0.7301734089851379,\n",
      "                        0.2557957172393799,\n",
      "                        0.014030924998223782,\n",
      "                        -0.947534456271725,\n",
      "                        '2024-05-24')}\n",
      "2\n"
     ]
    }
   ],
   "source": [
    "url = \"https://localhost:9200/artists/_search\"\n",
    "auth = HTTPBasicAuth(\"elastic\", \"elastic\")\n",
    "headers = {\"Content-Type\": \"application/json\"}\n",
    "\n",
    "def calculate_sentiment_score(positive, negative, neutral):\n",
    "    return (positive - negative) / (0.5 + neutral)\n",
    "\n",
    "def query_sentiment_scores(keyword: str):\n",
    "    query = {\n",
    "        \"size\": 1000,\n",
    "        \"query\": {\n",
    "            \"match_phrase\": {\n",
    "                \"content\": keyword\n",
    "            }\n",
    "        },\n",
    "        \"_source\": [\n",
    "            \"_id\",\n",
    "            \"roberta_sentiment.positive\",\n",
    "            \"roberta_sentiment.negative\",\n",
    "            \"roberta_sentiment.neutral\",\n",
    "            \"created_at\"\n",
    "        ]\n",
    "    }\n",
    "\n",
    "    response = requests.post(url, headers=headers, auth=auth, json=query, verify=False)\n",
    "    response.raise_for_status()\n",
    "    data = response.json()\n",
    "\n",
    "    results = {}\n",
    "    for hit in data[\"hits\"][\"hits\"]:\n",
    "        _id = hit[\"_id\"]\n",
    "        source = hit.get(\"_source\", {})\n",
    "        sentiment = source.get(\"roberta_sentiment\", {})\n",
    "        neg = sentiment.get(\"negative\", 0.0)\n",
    "        neu = sentiment.get(\"neutral\", 0.0)\n",
    "        pos = sentiment.get(\"positive\", 0.0)\n",
    "        score = calculate_sentiment_score(pos, neg, neu)\n",
    "\n",
    "        created_at = source.get(\"created_at\", None)\n",
    "        created_date = created_at[:10] if isinstance(created_at, str) else None  # Truncate to YYYY-MM-DD\n",
    "\n",
    "        results[_id] = (keyword, neg, neu, pos, score, created_date)\n",
    "\n",
    "    return results\n",
    "\n",
    "if __name__ == \"__main__\":\n",
    "    sentiment_results = query_sentiment_scores(\"ladygaga\")\n",
    "    pprint(sentiment_results, sort_dicts=False)\n",
    "    print(len(sentiment_results))"
   ]
  },
  {
   "cell_type": "markdown",
   "id": "0387d92c",
   "metadata": {},
   "source": [
    "### 10. Use Aliases as Keywords and Aggregate by Formal Names of Artists"
   ]
  },
  {
   "cell_type": "code",
   "execution_count": 11,
   "id": "b4e2aa01",
   "metadata": {},
   "outputs": [
    {
     "name": "stdout",
     "output_type": "stream",
     "text": [
      "[('Lady Gaga', -0.08380464742303667),\n",
      " ('Billie Eilish', 0.3064817836699785),\n",
      " ('Coldplay', -0.016496038297192168),\n",
      " ('Rihanna', 0.5385766165350465),\n",
      " ('Kendrick Lamar', -0.046272379446281736),\n",
      " ('Ed Sheeran', 0.10528650003998699),\n",
      " ('Taylor Swift', -0.028148661937558776),\n",
      " ('Drake', 0.10892895267840572),\n",
      " ('Justin Bieber', -0.44136069492083774),\n",
      " ('SZA', 0.3113976803329795),\n",
      " ('Dua Lipa', 0.5695610840116538),\n",
      " ('Eminem', -0.139196342427793),\n",
      " ('Sia', -0.11919282936760356),\n",
      " ('Sabrina Carpenter', 0.12418926679571349),\n",
      " ('Katy Perry', -0.40121171800991423)]\n",
      "[('Sia', -0.11919282936760356),\n",
      " ('AC/DC', 0.11507098032564994),\n",
      " ('Tame Impala', 0.041266844446582504),\n",
      " ('Troye Sivan', 0.3786239481481979),\n",
      " ('CYRIL', -0.11682412801506625),\n",
      " ('Gotye', 0.1008419694540971),\n",
      " ('Kylie Minogue', 0.11149589527751336)]\n"
     ]
    }
   ],
   "source": [
    "def collect_artist_alias_scores(artist_dict):\n",
    "    detailed_artist_scores = {}\n",
    "    for name, aliases in artist_dict.items():\n",
    "        name_dict = {}\n",
    "        for alias in aliases:\n",
    "            alias_dict = query_sentiment_scores(alias)\n",
    "            name_dict.update(alias_dict)  # Merge posts across aliases, avoiding duplication by post ID\n",
    "        detailed_artist_scores[name] = name_dict\n",
    "    return detailed_artist_scores\n",
    "\n",
    "\n",
    "def compute_avg_sentiment(detailed_artist_scores):\n",
    "    sentiment_list = []\n",
    "    for name, name_dict in detailed_artist_scores.items():\n",
    "        if name_dict:\n",
    "            score_avg = sum(entry[-2] for entry in name_dict.values()) / len(name_dict)\n",
    "        else:\n",
    "            score_avg = 0.0\n",
    "        sentiment_list.append((name, score_avg))\n",
    "    return sentiment_list\n",
    "\n",
    "\n",
    "cleaned_json_path = \"artists_cleaned.json\"\n",
    "with open(cleaned_json_path, \"r\", encoding=\"utf-8\") as f:\n",
    "    cleaned_artist_data = json.load(f)\n",
    "\n",
    "detailed_scores = collect_artist_alias_scores(cleaned_artist_data[\"artists\"])\n",
    "detailed_scores_au = collect_artist_alias_scores(cleaned_artist_data[\"artists_au\"])\n",
    "\n",
    "# pprint(detailed_scores, sort_dicts=False)\n",
    "# pprint(detailed_scores_au, sort_dicts=False)\n",
    "\n",
    "avg_sentiment = compute_avg_sentiment(detailed_scores)\n",
    "avg_sentiment_au = compute_avg_sentiment(detailed_scores_au)\n",
    "\n",
    "pprint(avg_sentiment, sort_dicts=False)\n",
    "pprint(avg_sentiment_au, sort_dicts=False)"
   ]
  },
  {
   "cell_type": "markdown",
   "id": "7c2934ee",
   "metadata": {},
   "source": [
    "### 11. Plot Average Sentiment Scores by Artists and Compare Global vs Australian"
   ]
  },
  {
   "cell_type": "code",
   "execution_count": 12,
   "id": "2b6f7ed2",
   "metadata": {},
   "outputs": [
    {
     "data": {
      "image/png": "[encoded data removed]",
      "text/plain": [
       "<Figure size 790x500 with 1 Axes>"
      ]
     },
     "metadata": {},
     "output_type": "display_data"
    },
    {
     "data": {
      "image/png": "[encoded data removed]",
      "text/plain": [
       "<Figure size 390x500 with 1 Axes>"
      ]
     },
     "metadata": {},
     "output_type": "display_data"
    }
   ],
   "source": [
    "def plot_sentiments(data, title):\n",
    "    names, scores = zip(*data)\n",
    "    avg_score = sum(scores) / len(scores)\n",
    "\n",
    "    plt.figure(figsize=(len(data) * 0.5 + 0.4, 5))\n",
    "    plt.scatter(names, scores, color=\"blue\", label=\"Sentiment Score\")\n",
    "    plt.axhline(avg_score, color=\"red\", linestyle=\"--\", label=f\"Average = {avg_score:.2f}\")\n",
    "    plt.ylim(-0.5, 0.5)\n",
    "    plt.xticks(rotation=90, ha=\"right\")\n",
    "    plt.ylabel(\"Sentiment Score\")\n",
    "    plt.title(title)\n",
    "    plt.legend()\n",
    "    plt.grid(True)\n",
    "    plt.tight_layout()\n",
    "    plt.show()\n",
    "\n",
    "\n",
    "plot_sentiments(avg_sentiment, \"Average Sentiment Score of Global Artists\")\n",
    "plot_sentiments(avg_sentiment_au, \"Average Sentiment Score of Australian Artists\")"
   ]
  },
  {
   "cell_type": "code",
   "execution_count": 14,
   "id": "58ba3434",
   "metadata": {},
   "outputs": [
    {
     "name": "stdout",
     "output_type": "stream",
     "text": [
      "T-statistic: -0.207, P-value: 0.839\n"
     ]
    }
   ],
   "source": [
    "scores_global = [x[1] for x in avg_sentiment]\n",
    "scores_au = [x[1] for x in avg_sentiment_au]\n",
    "\n",
    "# t test\n",
    "t_stat, p_value = ttest_ind(scores_global, scores_au, equal_var=False)  # Welch’s t-test\n",
    "\n",
    "print(f\"T-statistic: {t_stat:.3f}, P-value: {p_value:.3f}\")"
   ]
  },
  {
   "cell_type": "markdown",
   "id": "89247ca6",
   "metadata": {},
   "source": [
    "### 12. Plot Trends of Seasonal Sentiment Scores of Each Artist\n",
    "\n",
    "Interactivity: Note that clicking on legend can hide/reveal the trend line representing an individual artist, enabled by plotly.express."
   ]
  },
  {
   "cell_type": "code",
   "execution_count": 13,
   "id": "6424e3bb",
   "metadata": {},
   "outputs": [
    {
     "data": {
      "application/vnd.plotly.v1+json": {
       "config": {
        "plotlyServerURL": "https://plot.ly"
       },
       "data": [
        {
         "hovertemplate": "artist=Billie Eilish<br>Quarter=%{x}<br>Sentiment Score=%{y}<extra></extra>",
         "legendgroup": "Billie Eilish",
         "line": {
          "color": "#636efa",
          "dash": "solid"
         },
         "marker": {
          "symbol": "circle"
         },
         "mode": "lines+markers",
         "name": "Billie Eilish",
         "orientation": "v",
         "showlegend": true,
         "type": "scatter",
         "x": [
          "2022S4",
          "2023S1",
          "2023S2",
          "2023S3",
          "2023S4",
          "2024S1",
          "2024S2",
          "2024S3",
          "2024S4",
          "2025S1",
          "2025S2"
         ],
         "xaxis": "x",
         "y": {
          "bdata": "G9pvKNnI3D+Scl5tXWvnPxHFP1EvtLw/PMoX4YB0wD/OFy16Y6XKPwDW46Iqspo/d43V9p4izz9TKGK310zsPwAAAAAAAAAAOEwr0o9P1D+ueJ2PbG/qPw==",
          "dtype": "f8"
         },
         "yaxis": "y"
        },
        {
         "hovertemplate": "artist=Coldplay<br>Quarter=%{x}<br>Sentiment Score=%{y}<extra></extra>",
         "legendgroup": "Coldplay",
         "line": {
          "color": "#EF553B",
          "dash": "solid"
         },
         "marker": {
          "symbol": "circle"
         },
         "mode": "lines+markers",
         "name": "Coldplay",
         "orientation": "v",
         "showlegend": true,
         "type": "scatter",
         "x": [
          "2022S4",
          "2023S1",
          "2023S2",
          "2023S3",
          "2023S4",
          "2024S1",
          "2024S2",
          "2024S3",
          "2024S4",
          "2025S1",
          "2025S2"
         ],
         "xaxis": "x",
         "y": {
          "bdata": "MoulEqQSuT8AAAAAAAAAAIJzF1tPhso/Y9DYyn2oqj88YdD7WQfgv6TXM8RliNK/AAAAAAAAAACxdf+96XXXv3bfhhj+qiu/ng5Bjkc60j8+LoTTD4H7Pw==",
          "dtype": "f8"
         },
         "yaxis": "y"
        },
        {
         "hovertemplate": "artist=Drake<br>Quarter=%{x}<br>Sentiment Score=%{y}<extra></extra>",
         "legendgroup": "Drake",
         "line": {
          "color": "#00cc96",
          "dash": "solid"
         },
         "marker": {
          "symbol": "circle"
         },
         "mode": "lines+markers",
         "name": "Drake",
         "orientation": "v",
         "showlegend": true,
         "type": "scatter",
         "x": [
          "2022S4",
          "2023S1",
          "2023S2",
          "2023S3",
          "2023S4",
          "2024S1",
          "2024S2",
          "2024S3",
          "2024S4",
          "2025S1",
          "2025S2"
         ],
         "xaxis": "x",
         "y": {
          "bdata": "AAAAAAAAAAAo5GgEvWriPwIla89Ui8q/HplLphSQiL8GOODfQ4DFP1J3VV51HO8/5P6WUsQBxb/Vmf5njNbvPwAAAAAAAAAALaHIBX234L9TYyUD9dvDPw==",
          "dtype": "f8"
         },
         "yaxis": "y"
        },
        {
         "hovertemplate": "artist=Dua Lipa<br>Quarter=%{x}<br>Sentiment Score=%{y}<extra></extra>",
         "legendgroup": "Dua Lipa",
         "line": {
          "color": "#ab63fa",
          "dash": "solid"
         },
         "marker": {
          "symbol": "circle"
         },
         "mode": "lines+markers",
         "name": "Dua Lipa",
         "orientation": "v",
         "showlegend": true,
         "type": "scatter",
         "x": [
          "2022S4",
          "2023S1",
          "2023S2",
          "2023S3",
          "2023S4",
          "2024S1",
          "2024S2",
          "2024S3",
          "2024S4",
          "2025S1",
          "2025S2"
         ],
         "xaxis": "x",
         "y": {
          "bdata": "9LADx/2H8D8AAAAAAAAAAAAAAAAAAAAAI2yvip/I1j/LQOpL5Vz7PyAM9ZsUKIW/c39Gm9NcsD8AAAAAAAAAAAAAAAAAAAAAi8KW8SLV0b/7E4s96H76Pw==",
          "dtype": "f8"
         },
         "yaxis": "y"
        },
        {
         "hovertemplate": "artist=Ed Sheeran<br>Quarter=%{x}<br>Sentiment Score=%{y}<extra></extra>",
         "legendgroup": "Ed Sheeran",
         "line": {
          "color": "#FFA15A",
          "dash": "solid"
         },
         "marker": {
          "symbol": "circle"
         },
         "mode": "lines+markers",
         "name": "Ed Sheeran",
         "orientation": "v",
         "showlegend": true,
         "type": "scatter",
         "x": [
          "2022S4",
          "2023S1",
          "2023S2",
          "2023S3",
          "2023S4",
          "2024S1",
          "2024S2",
          "2024S3",
          "2024S4",
          "2025S1",
          "2025S2"
         ],
         "xaxis": "x",
         "y": {
          "bdata": "SkgN07Rg6T9+hZtX4ufmPz7US0e6E9S/dVGxjb155b+VIH98MbnrPwAAAAAAAAAAc9RTjcpcwr8AAAAAAAAAAAAAAAAAAAAAAAAAAAAAAAAAAAAAAAAAAA==",
          "dtype": "f8"
         },
         "yaxis": "y"
        },
        {
         "hovertemplate": "artist=Eminem<br>Quarter=%{x}<br>Sentiment Score=%{y}<extra></extra>",
         "legendgroup": "Eminem",
         "line": {
          "color": "#19d3f3",
          "dash": "solid"
         },
         "marker": {
          "symbol": "circle"
         },
         "mode": "lines+markers",
         "name": "Eminem",
         "orientation": "v",
         "showlegend": true,
         "type": "scatter",
         "x": [
          "2022S4",
          "2023S1",
          "2023S2",
          "2023S3",
          "2023S4",
          "2024S1",
          "2024S2",
          "2024S3",
          "2024S4",
          "2025S1",
          "2025S2"
         ],
         "xaxis": "x",
         "y": {
          "bdata": "AAAAAAAAAAAvR6GNm82QP933O/PkldM/oba2cX3wwL9WhEFcS/PovwAAAAAAAAAAsKFaHvBa1b/RzQDtpnn5PwAAAAAAAAAAAAAAAAAAAABE5OF6p4nrvw==",
          "dtype": "f8"
         },
         "yaxis": "y"
        },
        {
         "hovertemplate": "artist=Justin Bieber<br>Quarter=%{x}<br>Sentiment Score=%{y}<extra></extra>",
         "legendgroup": "Justin Bieber",
         "line": {
          "color": "#FF6692",
          "dash": "solid"
         },
         "marker": {
          "symbol": "circle"
         },
         "mode": "lines+markers",
         "name": "Justin Bieber",
         "orientation": "v",
         "showlegend": true,
         "type": "scatter",
         "x": [
          "2022S4",
          "2023S1",
          "2023S2",
          "2023S3",
          "2023S4",
          "2024S1",
          "2024S2",
          "2024S3",
          "2024S4",
          "2025S1",
          "2025S2"
         ],
         "xaxis": "x",
         "y": {
          "bdata": "AAAAAAAAAAAAAAAAAAAAAAAAAAAAAAAAAAAAAAAAAABIWuncSa7zv1lbdGxAR7w/6Jk5MqSSvL91aTGZzaXrvwAAAAAAAAAAAAAAAAAAAAAAAAAAAAAAAA==",
          "dtype": "f8"
         },
         "yaxis": "y"
        },
        {
         "hovertemplate": "artist=Katy Perry<br>Quarter=%{x}<br>Sentiment Score=%{y}<extra></extra>",
         "legendgroup": "Katy Perry",
         "line": {
          "color": "#B6E880",
          "dash": "solid"
         },
         "marker": {
          "symbol": "circle"
         },
         "mode": "lines+markers",
         "name": "Katy Perry",
         "orientation": "v",
         "showlegend": true,
         "type": "scatter",
         "x": [
          "2022S4",
          "2023S1",
          "2023S2",
          "2023S3",
          "2023S4",
          "2024S1",
          "2024S2",
          "2024S3",
          "2024S4",
          "2025S1",
          "2025S2"
         ],
         "xaxis": "x",
         "y": {
          "bdata": "ykXjpGOc9b/XdlKI21aTvzmTAoszxdO/AAAAAAAAAABfUATCFnPRv5msYLUeHOS/1xSaot2q1L9PL5Gnf37avwAAAAAAAAAA591CDeBV079d3vtq18navw==",
          "dtype": "f8"
         },
         "yaxis": "y"
        },
        {
         "hovertemplate": "artist=Kendrick Lamar<br>Quarter=%{x}<br>Sentiment Score=%{y}<extra></extra>",
         "legendgroup": "Kendrick Lamar",
         "line": {
          "color": "#FF97FF",
          "dash": "solid"
         },
         "marker": {
          "symbol": "circle"
         },
         "mode": "lines+markers",
         "name": "Kendrick Lamar",
         "orientation": "v",
         "showlegend": true,
         "type": "scatter",
         "x": [
          "2022S4",
          "2023S1",
          "2023S2",
          "2023S3",
          "2023S4",
          "2024S1",
          "2024S2",
          "2024S3",
          "2024S4",
          "2025S1",
          "2025S2"
         ],
         "xaxis": "x",
         "y": {
          "bdata": "AAAAAAAAAABnOi8kkxSuPwAAAAAAAAAASyF5Q8t06T/mRkMDASCnP9xqJjeN9ZI/2y8Ccjw22L9oxBmWMQ/pPwAAAAAAAAAAx9dRMTyAub9my4BHxrfQvw==",
          "dtype": "f8"
         },
         "yaxis": "y"
        },
        {
         "hovertemplate": "artist=Lady Gaga<br>Quarter=%{x}<br>Sentiment Score=%{y}<extra></extra>",
         "legendgroup": "Lady Gaga",
         "line": {
          "color": "#FECB52",
          "dash": "solid"
         },
         "marker": {
          "symbol": "circle"
         },
         "mode": "lines+markers",
         "name": "Lady Gaga",
         "orientation": "v",
         "showlegend": true,
         "type": "scatter",
         "x": [
          "2022S4",
          "2023S1",
          "2023S2",
          "2023S3",
          "2023S4",
          "2024S1",
          "2024S2",
          "2024S3",
          "2024S4",
          "2025S1",
          "2025S2"
         ],
         "xaxis": "x",
         "y": {
          "bdata": "AAAAAAAAAACj3LUHsVzjP+CP7aRwpY4/9OvGNiV8XT+tjTjy2DzRP1SFiC87msE/pSc6Vigf6L/jS9/INY7VvxSBAyvbbK2/kDxHgazb6r84S0+NeqW9vw==",
          "dtype": "f8"
         },
         "yaxis": "y"
        },
        {
         "hovertemplate": "artist=Rihanna<br>Quarter=%{x}<br>Sentiment Score=%{y}<extra></extra>",
         "legendgroup": "Rihanna",
         "line": {
          "color": "#636efa",
          "dash": "solid"
         },
         "marker": {
          "symbol": "circle"
         },
         "mode": "lines+markers",
         "name": "Rihanna",
         "orientation": "v",
         "showlegend": true,
         "type": "scatter",
         "x": [
          "2022S4",
          "2023S1",
          "2023S2",
          "2023S3",
          "2023S4",
          "2024S1",
          "2024S2",
          "2024S3",
          "2024S4",
          "2025S1",
          "2025S2"
         ],
         "xaxis": "x",
         "y": {
          "bdata": "mhlQPcraiL8Fm0K2zsPpP03HW9TRGfA/KEJTxISQ5j84OvsDgeniPwAAAAAAAAAABbTXbz/p2D9WWTlP+gzOPwAAAAAAAAAAXWgrneV5xT8AAAAAAAAAAA==",
          "dtype": "f8"
         },
         "yaxis": "y"
        },
        {
         "hovertemplate": "artist=SZA<br>Quarter=%{x}<br>Sentiment Score=%{y}<extra></extra>",
         "legendgroup": "SZA",
         "line": {
          "color": "#EF553B",
          "dash": "solid"
         },
         "marker": {
          "symbol": "circle"
         },
         "mode": "lines+markers",
         "name": "SZA",
         "orientation": "v",
         "showlegend": true,
         "type": "scatter",
         "x": [
          "2022S4",
          "2023S1",
          "2023S2",
          "2023S3",
          "2023S4",
          "2024S1",
          "2024S2",
          "2024S3",
          "2024S4",
          "2025S1",
          "2025S2"
         ],
         "xaxis": "x",
         "y": {
          "bdata": "qA7NHdnc0z+EyzjuFmOePwAAAAAAAAAAAAAAAAAAAAAAAAAAAAAAAAAAAAAAAAAAAAAAAAAAAACWL194W+v2PwAAAAAAAAAAQBKEbsddoD8AAAAAAAAAAA==",
          "dtype": "f8"
         },
         "yaxis": "y"
        },
        {
         "hovertemplate": "artist=Sabrina Carpenter<br>Quarter=%{x}<br>Sentiment Score=%{y}<extra></extra>",
         "legendgroup": "Sabrina Carpenter",
         "line": {
          "color": "#00cc96",
          "dash": "solid"
         },
         "marker": {
          "symbol": "circle"
         },
         "mode": "lines+markers",
         "name": "Sabrina Carpenter",
         "orientation": "v",
         "showlegend": true,
         "type": "scatter",
         "x": [
          "2022S4",
          "2023S1",
          "2023S2",
          "2023S3",
          "2023S4",
          "2024S1",
          "2024S2",
          "2024S3",
          "2024S4",
          "2025S1",
          "2025S2"
         ],
         "xaxis": "x",
         "y": {
          "bdata": "AAAAAAAAAADI449wGd+mP0fcXzUG7d4/uDIJ+BatoT8CWDXob1KUP2bRoX7DYJM/f58NHNIr4b9VKOs/CwSzP0JSqcaY+de/8bEgBbyR7T+0xO5yvfK9Pw==",
          "dtype": "f8"
         },
         "yaxis": "y"
        },
        {
         "hovertemplate": "artist=Sia<br>Quarter=%{x}<br>Sentiment Score=%{y}<extra></extra>",
         "legendgroup": "Sia",
         "line": {
          "color": "#ab63fa",
          "dash": "solid"
         },
         "marker": {
          "symbol": "circle"
         },
         "mode": "lines+markers",
         "name": "Sia",
         "orientation": "v",
         "showlegend": true,
         "type": "scatter",
         "x": [
          "2022S4",
          "2023S1",
          "2023S2",
          "2023S3",
          "2023S4",
          "2024S1",
          "2024S2",
          "2024S3",
          "2024S4",
          "2025S1",
          "2025S2"
         ],
         "xaxis": "x",
         "y": {
          "bdata": "b3tJQSsZxL+5IfbdPAzGvw4Juf9uyaS/0Ts4TvhI0b9U3D4KQ/7Iv6XEFZv247I/90p48T6s0r/N1niE9RbGvwAAAAAAAAAAK7kdhj9siz8wzIMKkRvWvw==",
          "dtype": "f8"
         },
         "yaxis": "y"
        },
        {
         "hovertemplate": "artist=Taylor Swift<br>Quarter=%{x}<br>Sentiment Score=%{y}<extra></extra>",
         "legendgroup": "Taylor Swift",
         "line": {
          "color": "#FFA15A",
          "dash": "solid"
         },
         "marker": {
          "symbol": "circle"
         },
         "mode": "lines+markers",
         "name": "Taylor Swift",
         "orientation": "v",
         "showlegend": true,
         "type": "scatter",
         "x": [
          "2022S4",
          "2023S1",
          "2023S2",
          "2023S3",
          "2023S4",
          "2024S1",
          "2024S2",
          "2024S3",
          "2024S4",
          "2025S1",
          "2025S2"
         ],
         "xaxis": "x",
         "y": {
          "bdata": "NU1qWGVpu79jZgkdkqKqvwtg361zUqk/0cPolyvSs79fhpEDtVPRvz01gSj54HO/JC76OoOntz+xzTcDHWmwv3JhyiekuHU/3piTF4s5xb990GMGOcXgPw==",
          "dtype": "f8"
         },
         "yaxis": "y"
        }
       ],
       "layout": {
        "dragmode": false,
        "height": 500,
        "legend": {
         "title": {
          "text": "Artist (click to show/hide)"
         },
         "tracegroupgap": 0
        },
        "template": {
         "data": {
          "bar": [
           {
            "error_x": {
             "color": "#2a3f5f"
            },
            "error_y": {
             "color": "#2a3f5f"
            },
            "marker": {
             "line": {
              "color": "white",
              "width": 0.5
             },
             "pattern": {
              "fillmode": "overlay",
              "size": 10,
              "solidity": 0.2
             }
            },
            "type": "bar"
           }
          ],
          "barpolar": [
           {
            "marker": {
             "line": {
              "color": "white",
              "width": 0.5
             },
             "pattern": {
              "fillmode": "overlay",
              "size": 10,
              "solidity": 0.2
             }
            },
            "type": "barpolar"
           }
          ],
          "carpet": [
           {
            "aaxis": {
             "endlinecolor": "#2a3f5f",
             "gridcolor": "#C8D4E3",
             "linecolor": "#C8D4E3",
             "minorgridcolor": "#C8D4E3",
             "startlinecolor": "#2a3f5f"
            },
            "baxis": {
             "endlinecolor": "#2a3f5f",
             "gridcolor": "#C8D4E3",
             "linecolor": "#C8D4E3",
             "minorgridcolor": "#C8D4E3",
             "startlinecolor": "#2a3f5f"
            },
            "type": "carpet"
           }
          ],
          "choropleth": [
           {
            "colorbar": {
             "outlinewidth": 0,
             "ticks": ""
            },
            "type": "choropleth"
           }
          ],
          "contour": [
           {
            "colorbar": {
             "outlinewidth": 0,
             "ticks": ""
            },
            "colorscale": [
             [
              0,
              "#0d0887"
             ],
             [
              0.1111111111111111,
              "#46039f"
             ],
             [
              0.2222222222222222,
              "#7201a8"
             ],
             [
              0.3333333333333333,
              "#9c179e"
             ],
             [
              0.4444444444444444,
              "#bd3786"
             ],
             [
              0.5555555555555556,
              "#d8576b"
             ],
             [
              0.6666666666666666,
              "#ed7953"
             ],
             [
              0.7777777777777778,
              "#fb9f3a"
             ],
             [
              0.8888888888888888,
              "#fdca26"
             ],
             [
              1,
              "#f0f921"
             ]
            ],
            "type": "contour"
           }
          ],
          "contourcarpet": [
           {
            "colorbar": {
             "outlinewidth": 0,
             "ticks": ""
            },
            "type": "contourcarpet"
           }
          ],
          "heatmap": [
           {
            "colorbar": {
             "outlinewidth": 0,
             "ticks": ""
            },
            "colorscale": [
             [
              0,
              "#0d0887"
             ],
             [
              0.1111111111111111,
              "#46039f"
             ],
             [
              0.2222222222222222,
              "#7201a8"
             ],
             [
              0.3333333333333333,
              "#9c179e"
             ],
             [
              0.4444444444444444,
              "#bd3786"
             ],
             [
              0.5555555555555556,
              "#d8576b"
             ],
             [
              0.6666666666666666,
              "#ed7953"
             ],
             [
              0.7777777777777778,
              "#fb9f3a"
             ],
             [
              0.8888888888888888,
              "#fdca26"
             ],
             [
              1,
              "#f0f921"
             ]
            ],
            "type": "heatmap"
           }
          ],
          "histogram": [
           {
            "marker": {
             "pattern": {
              "fillmode": "overlay",
              "size": 10,
              "solidity": 0.2
             }
            },
            "type": "histogram"
           }
          ],
          "histogram2d": [
           {
            "colorbar": {
             "outlinewidth": 0,
             "ticks": ""
            },
            "colorscale": [
             [
              0,
              "#0d0887"
             ],
             [
              0.1111111111111111,
              "#46039f"
             ],
             [
              0.2222222222222222,
              "#7201a8"
             ],
             [
              0.3333333333333333,
              "#9c179e"
             ],
             [
              0.4444444444444444,
              "#bd3786"
             ],
             [
              0.5555555555555556,
              "#d8576b"
             ],
             [
              0.6666666666666666,
              "#ed7953"
             ],
             [
              0.7777777777777778,
              "#fb9f3a"
             ],
             [
              0.8888888888888888,
              "#fdca26"
             ],
             [
              1,
              "#f0f921"
             ]
            ],
            "type": "histogram2d"
           }
          ],
          "histogram2dcontour": [
           {
            "colorbar": {
             "outlinewidth": 0,
             "ticks": ""
            },
            "colorscale": [
             [
              0,
              "#0d0887"
             ],
             [
              0.1111111111111111,
              "#46039f"
             ],
             [
              0.2222222222222222,
              "#7201a8"
             ],
             [
              0.3333333333333333,
              "#9c179e"
             ],
             [
              0.4444444444444444,
              "#bd3786"
             ],
             [
              0.5555555555555556,
              "#d8576b"
             ],
             [
              0.6666666666666666,
              "#ed7953"
             ],
             [
              0.7777777777777778,
              "#fb9f3a"
             ],
             [
              0.8888888888888888,
              "#fdca26"
             ],
             [
              1,
              "#f0f921"
             ]
            ],
            "type": "histogram2dcontour"
           }
          ],
          "mesh3d": [
           {
            "colorbar": {
             "outlinewidth": 0,
             "ticks": ""
            },
            "type": "mesh3d"
           }
          ],
          "parcoords": [
           {
            "line": {
             "colorbar": {
              "outlinewidth": 0,
              "ticks": ""
             }
            },
            "type": "parcoords"
           }
          ],
          "pie": [
           {
            "automargin": true,
            "type": "pie"
           }
          ],
          "scatter": [
           {
            "fillpattern": {
             "fillmode": "overlay",
             "size": 10,
             "solidity": 0.2
            },
            "type": "scatter"
           }
          ],
          "scatter3d": [
           {
            "line": {
             "colorbar": {
              "outlinewidth": 0,
              "ticks": ""
             }
            },
            "marker": {
             "colorbar": {
              "outlinewidth": 0,
              "ticks": ""
             }
            },
            "type": "scatter3d"
           }
          ],
          "scattercarpet": [
           {
            "marker": {
             "colorbar": {
              "outlinewidth": 0,
              "ticks": ""
             }
            },
            "type": "scattercarpet"
           }
          ],
          "scattergeo": [
           {
            "marker": {
             "colorbar": {
              "outlinewidth": 0,
              "ticks": ""
             }
            },
            "type": "scattergeo"
           }
          ],
          "scattergl": [
           {
            "marker": {
             "colorbar": {
              "outlinewidth": 0,
              "ticks": ""
             }
            },
            "type": "scattergl"
           }
          ],
          "scattermap": [
           {
            "marker": {
             "colorbar": {
              "outlinewidth": 0,
              "ticks": ""
             }
            },
            "type": "scattermap"
           }
          ],
          "scattermapbox": [
           {
            "marker": {
             "colorbar": {
              "outlinewidth": 0,
              "ticks": ""
             }
            },
            "type": "scattermapbox"
           }
          ],
          "scatterpolar": [
           {
            "marker": {
             "colorbar": {
              "outlinewidth": 0,
              "ticks": ""
             }
            },
            "type": "scatterpolar"
           }
          ],
          "scatterpolargl": [
           {
            "marker": {
             "colorbar": {
              "outlinewidth": 0,
              "ticks": ""
             }
            },
            "type": "scatterpolargl"
           }
          ],
          "scatterternary": [
           {
            "marker": {
             "colorbar": {
              "outlinewidth": 0,
              "ticks": ""
             }
            },
            "type": "scatterternary"
           }
          ],
          "surface": [
           {
            "colorbar": {
             "outlinewidth": 0,
             "ticks": ""
            },
            "colorscale": [
             [
              0,
              "#0d0887"
             ],
             [
              0.1111111111111111,
              "#46039f"
             ],
             [
              0.2222222222222222,
              "#7201a8"
             ],
             [
              0.3333333333333333,
              "#9c179e"
             ],
             [
              0.4444444444444444,
              "#bd3786"
             ],
             [
              0.5555555555555556,
              "#d8576b"
             ],
             [
              0.6666666666666666,
              "#ed7953"
             ],
             [
              0.7777777777777778,
              "#fb9f3a"
             ],
             [
              0.8888888888888888,
              "#fdca26"
             ],
             [
              1,
              "#f0f921"
             ]
            ],
            "type": "surface"
           }
          ],
          "table": [
           {
            "cells": {
             "fill": {
              "color": "#EBF0F8"
             },
             "line": {
              "color": "white"
             }
            },
            "header": {
             "fill": {
              "color": "#C8D4E3"
             },
             "line": {
              "color": "white"
             }
            },
            "type": "table"
           }
          ]
         },
         "layout": {
          "annotationdefaults": {
           "arrowcolor": "#2a3f5f",
           "arrowhead": 0,
           "arrowwidth": 1
          },
          "autotypenumbers": "strict",
          "coloraxis": {
           "colorbar": {
            "outlinewidth": 0,
            "ticks": ""
           }
          },
          "colorscale": {
           "diverging": [
            [
             0,
             "#8e0152"
            ],
            [
             0.1,
             "#c51b7d"
            ],
            [
             0.2,
             "#de77ae"
            ],
            [
             0.3,
             "#f1b6da"
            ],
            [
             0.4,
             "#fde0ef"
            ],
            [
             0.5,
             "#f7f7f7"
            ],
            [
             0.6,
             "#e6f5d0"
            ],
            [
             0.7,
             "#b8e186"
            ],
            [
             0.8,
             "#7fbc41"
            ],
            [
             0.9,
             "#4d9221"
            ],
            [
             1,
             "#276419"
            ]
           ],
           "sequential": [
            [
             0,
             "#0d0887"
            ],
            [
             0.1111111111111111,
             "#46039f"
            ],
            [
             0.2222222222222222,
             "#7201a8"
            ],
            [
             0.3333333333333333,
             "#9c179e"
            ],
            [
             0.4444444444444444,
             "#bd3786"
            ],
            [
             0.5555555555555556,
             "#d8576b"
            ],
            [
             0.6666666666666666,
             "#ed7953"
            ],
            [
             0.7777777777777778,
             "#fb9f3a"
            ],
            [
             0.8888888888888888,
             "#fdca26"
            ],
            [
             1,
             "#f0f921"
            ]
           ],
           "sequentialminus": [
            [
             0,
             "#0d0887"
            ],
            [
             0.1111111111111111,
             "#46039f"
            ],
            [
             0.2222222222222222,
             "#7201a8"
            ],
            [
             0.3333333333333333,
             "#9c179e"
            ],
            [
             0.4444444444444444,
             "#bd3786"
            ],
            [
             0.5555555555555556,
             "#d8576b"
            ],
            [
             0.6666666666666666,
             "#ed7953"
            ],
            [
             0.7777777777777778,
             "#fb9f3a"
            ],
            [
             0.8888888888888888,
             "#fdca26"
            ],
            [
             1,
             "#f0f921"
            ]
           ]
          },
          "colorway": [
           "#636efa",
           "#EF553B",
           "#00cc96",
           "#ab63fa",
           "#FFA15A",
           "#19d3f3",
           "#FF6692",
           "#B6E880",
           "#FF97FF",
           "#FECB52"
          ],
          "font": {
           "color": "#2a3f5f"
          },
          "geo": {
           "bgcolor": "white",
           "lakecolor": "white",
           "landcolor": "white",
           "showlakes": true,
           "showland": true,
           "subunitcolor": "#C8D4E3"
          },
          "hoverlabel": {
           "align": "left"
          },
          "hovermode": "closest",
          "mapbox": {
           "style": "light"
          },
          "paper_bgcolor": "white",
          "plot_bgcolor": "white",
          "polar": {
           "angularaxis": {
            "gridcolor": "#EBF0F8",
            "linecolor": "#EBF0F8",
            "ticks": ""
           },
           "bgcolor": "white",
           "radialaxis": {
            "gridcolor": "#EBF0F8",
            "linecolor": "#EBF0F8",
            "ticks": ""
           }
          },
          "scene": {
           "xaxis": {
            "backgroundcolor": "white",
            "gridcolor": "#DFE8F3",
            "gridwidth": 2,
            "linecolor": "#EBF0F8",
            "showbackground": true,
            "ticks": "",
            "zerolinecolor": "#EBF0F8"
           },
           "yaxis": {
            "backgroundcolor": "white",
            "gridcolor": "#DFE8F3",
            "gridwidth": 2,
            "linecolor": "#EBF0F8",
            "showbackground": true,
            "ticks": "",
            "zerolinecolor": "#EBF0F8"
           },
           "zaxis": {
            "backgroundcolor": "white",
            "gridcolor": "#DFE8F3",
            "gridwidth": 2,
            "linecolor": "#EBF0F8",
            "showbackground": true,
            "ticks": "",
            "zerolinecolor": "#EBF0F8"
           }
          },
          "shapedefaults": {
           "line": {
            "color": "#2a3f5f"
           }
          },
          "ternary": {
           "aaxis": {
            "gridcolor": "#DFE8F3",
            "linecolor": "#A2B1C6",
            "ticks": ""
           },
           "baxis": {
            "gridcolor": "#DFE8F3",
            "linecolor": "#A2B1C6",
            "ticks": ""
           },
           "bgcolor": "white",
           "caxis": {
            "gridcolor": "#DFE8F3",
            "linecolor": "#A2B1C6",
            "ticks": ""
           }
          },
          "title": {
           "x": 0.05
          },
          "xaxis": {
           "automargin": true,
           "gridcolor": "#EBF0F8",
           "linecolor": "#EBF0F8",
           "ticks": "",
           "title": {
            "standoff": 15
           },
           "zerolinecolor": "#EBF0F8",
           "zerolinewidth": 2
          },
          "yaxis": {
           "automargin": true,
           "gridcolor": "#EBF0F8",
           "linecolor": "#EBF0F8",
           "ticks": "",
           "title": {
            "standoff": 15
           },
           "zerolinecolor": "#EBF0F8",
           "zerolinewidth": 2
          }
         }
        },
        "title": {
         "text": "Quarterly Sentiment Trend (Global Artists)"
        },
        "xaxis": {
         "anchor": "y",
         "domain": [
          0,
          1
         ],
         "fixedrange": true,
         "tickangle": -45,
         "title": {
          "text": "Quarter"
         }
        },
        "yaxis": {
         "anchor": "x",
         "domain": [
          0,
          1
         ],
         "range": [
          -2,
          2
         ],
         "title": {
          "text": "Sentiment Score"
         }
        }
       }
      }
     },
     "metadata": {},
     "output_type": "display_data"
    },
    {
     "data": {
      "application/vnd.plotly.v1+json": {
       "config": {
        "plotlyServerURL": "https://plot.ly"
       },
       "data": [
        {
         "hovertemplate": "artist=AC/DC<br>Quarter=%{x}<br>Sentiment Score=%{y}<extra></extra>",
         "legendgroup": "AC/DC",
         "line": {
          "color": "#636efa",
          "dash": "solid"
         },
         "marker": {
          "symbol": "circle"
         },
         "mode": "lines+markers",
         "name": "AC/DC",
         "orientation": "v",
         "showlegend": true,
         "type": "scatter",
         "x": [
          "2022S4",
          "2023S1",
          "2023S2",
          "2023S3",
          "2023S4",
          "2024S1",
          "2024S2",
          "2024S3",
          "2024S4",
          "2025S1",
          "2025S2"
         ],
         "xaxis": "x",
         "y": {
          "bdata": "qD5847erlD9NSXsLULjQP6y6v1obO7Q/AGlGKZwrxj9Jkc7CeGrQP6SXxrxbPsk/IGjUaHSHcr/2Mr/NiGLAv4PGTeBOI68/a4md60WXqb9+PO0Ai7H4Pw==",
          "dtype": "f8"
         },
         "yaxis": "y"
        },
        {
         "hovertemplate": "artist=CYRIL<br>Quarter=%{x}<br>Sentiment Score=%{y}<extra></extra>",
         "legendgroup": "CYRIL",
         "line": {
          "color": "#EF553B",
          "dash": "solid"
         },
         "marker": {
          "symbol": "circle"
         },
         "mode": "lines+markers",
         "name": "CYRIL",
         "orientation": "v",
         "showlegend": true,
         "type": "scatter",
         "x": [
          "2022S4",
          "2023S1",
          "2023S2",
          "2023S3",
          "2023S4",
          "2024S1",
          "2024S2",
          "2024S3",
          "2024S4",
          "2025S1",
          "2025S2"
         ],
         "xaxis": "x",
         "y": {
          "bdata": "au94tait3r849PzrQgHDPxD9aIW8NLQ/FJkbsIca3r8AAAAAAAAAAAAAAAAAAAAAsx6AED6V179bVze8VU7bvwAAAAAAAAAAF/LIIMeGrz8AAAAAAAAAAA==",
          "dtype": "f8"
         },
         "yaxis": "y"
        },
        {
         "hovertemplate": "artist=Gotye<br>Quarter=%{x}<br>Sentiment Score=%{y}<extra></extra>",
         "legendgroup": "Gotye",
         "line": {
          "color": "#00cc96",
          "dash": "solid"
         },
         "marker": {
          "symbol": "circle"
         },
         "mode": "lines+markers",
         "name": "Gotye",
         "orientation": "v",
         "showlegend": true,
         "type": "scatter",
         "x": [
          "2022S4",
          "2023S1",
          "2023S2",
          "2023S3",
          "2023S4",
          "2024S1",
          "2024S2",
          "2024S3",
          "2024S4",
          "2025S1",
          "2025S2"
         ],
         "xaxis": "x",
         "y": {
          "bdata": "AAAAAAAAAAAAAAAAAAAAAAAAAAAAAAAAaRWKQU/F3L8AAAAAAAAAACWuG8yQBds/AAAAAAAAAACJAFVQEg7WPwAAAAAAAAAApX+TA0Syeb8AAAAAAAAAAA==",
          "dtype": "f8"
         },
         "yaxis": "y"
        },
        {
         "hovertemplate": "artist=Kylie Minogue<br>Quarter=%{x}<br>Sentiment Score=%{y}<extra></extra>",
         "legendgroup": "Kylie Minogue",
         "line": {
          "color": "#ab63fa",
          "dash": "solid"
         },
         "marker": {
          "symbol": "circle"
         },
         "mode": "lines+markers",
         "name": "Kylie Minogue",
         "orientation": "v",
         "showlegend": true,
         "type": "scatter",
         "x": [
          "2022S4",
          "2023S1",
          "2023S2",
          "2023S3",
          "2023S4",
          "2024S1",
          "2024S2",
          "2024S3",
          "2024S4",
          "2025S1",
          "2025S2"
         ],
         "xaxis": "x",
         "y": {
          "bdata": "AAAAAAAAAACG6MYWRkHxP3KyjmlCfuI/D9ZQpTVC0T92c+i/1dTAv4refkU/9dC/029mpCy05j8AAAAAAAAAAGjvF2mwcae/u1NhF5N9qz8gBE2NS4O+Pw==",
          "dtype": "f8"
         },
         "yaxis": "y"
        },
        {
         "hovertemplate": "artist=Sia<br>Quarter=%{x}<br>Sentiment Score=%{y}<extra></extra>",
         "legendgroup": "Sia",
         "line": {
          "color": "#FFA15A",
          "dash": "solid"
         },
         "marker": {
          "symbol": "circle"
         },
         "mode": "lines+markers",
         "name": "Sia",
         "orientation": "v",
         "showlegend": true,
         "type": "scatter",
         "x": [
          "2022S4",
          "2023S1",
          "2023S2",
          "2023S3",
          "2023S4",
          "2024S1",
          "2024S2",
          "2024S3",
          "2024S4",
          "2025S1",
          "2025S2"
         ],
         "xaxis": "x",
         "y": {
          "bdata": "b3tJQSsZxL+5IfbdPAzGvw4Juf9uyaS/0Ts4TvhI0b9U3D4KQ/7Iv6XEFZv247I/90p48T6s0r/N1niE9RbGvwAAAAAAAAAAK7kdhj9siz8wzIMKkRvWvw==",
          "dtype": "f8"
         },
         "yaxis": "y"
        },
        {
         "hovertemplate": "artist=Tame Impala<br>Quarter=%{x}<br>Sentiment Score=%{y}<extra></extra>",
         "legendgroup": "Tame Impala",
         "line": {
          "color": "#19d3f3",
          "dash": "solid"
         },
         "marker": {
          "symbol": "circle"
         },
         "mode": "lines+markers",
         "name": "Tame Impala",
         "orientation": "v",
         "showlegend": true,
         "type": "scatter",
         "x": [
          "2022S4",
          "2023S1",
          "2023S2",
          "2023S3",
          "2023S4",
          "2024S1",
          "2024S2",
          "2024S3",
          "2024S4",
          "2025S1",
          "2025S2"
         ],
         "xaxis": "x",
         "y": {
          "bdata": "AAAAAAAAAABxTmPhNKTHv+kQYY8/7Oc/Y9DYyn2oqj8AAAAAAAAAAAAAAAAAAAAAHx5XZ+m4eT/ZxlklhoSqPwAAAAAAAAAAnraMFzJm5L/x6vW096VRvw==",
          "dtype": "f8"
         },
         "yaxis": "y"
        },
        {
         "hovertemplate": "artist=Troye Sivan<br>Quarter=%{x}<br>Sentiment Score=%{y}<extra></extra>",
         "legendgroup": "Troye Sivan",
         "line": {
          "color": "#FF6692",
          "dash": "solid"
         },
         "marker": {
          "symbol": "circle"
         },
         "mode": "lines+markers",
         "name": "Troye Sivan",
         "orientation": "v",
         "showlegend": true,
         "type": "scatter",
         "x": [
          "2022S4",
          "2023S1",
          "2023S2",
          "2023S3",
          "2023S4",
          "2024S1",
          "2024S2",
          "2024S3",
          "2024S4",
          "2025S1",
          "2025S2"
         ],
         "xaxis": "x",
         "y": {
          "bdata": "AAAAAAAAAAAAAAAAAAAAAAAAAAAAAAAA92wLLcD7+D8d+Iop2QvpP3EpKaQwS8M/AAAAAAAAAAAAAAAAAAAAAAAAAAAAAAAA9eiVllWB8r8AAAAAAAAAAA==",
          "dtype": "f8"
         },
         "yaxis": "y"
        }
       ],
       "layout": {
        "dragmode": false,
        "height": 500,
        "legend": {
         "title": {
          "text": "Artist (click to show/hide)"
         },
         "tracegroupgap": 0
        },
        "template": {
         "data": {
          "bar": [
           {
            "error_x": {
             "color": "#2a3f5f"
            },
            "error_y": {
             "color": "#2a3f5f"
            },
            "marker": {
             "line": {
              "color": "white",
              "width": 0.5
             },
             "pattern": {
              "fillmode": "overlay",
              "size": 10,
              "solidity": 0.2
             }
            },
            "type": "bar"
           }
          ],
          "barpolar": [
           {
            "marker": {
             "line": {
              "color": "white",
              "width": 0.5
             },
             "pattern": {
              "fillmode": "overlay",
              "size": 10,
              "solidity": 0.2
             }
            },
            "type": "barpolar"
           }
          ],
          "carpet": [
           {
            "aaxis": {
             "endlinecolor": "#2a3f5f",
             "gridcolor": "#C8D4E3",
             "linecolor": "#C8D4E3",
             "minorgridcolor": "#C8D4E3",
             "startlinecolor": "#2a3f5f"
            },
            "baxis": {
             "endlinecolor": "#2a3f5f",
             "gridcolor": "#C8D4E3",
             "linecolor": "#C8D4E3",
             "minorgridcolor": "#C8D4E3",
             "startlinecolor": "#2a3f5f"
            },
            "type": "carpet"
           }
          ],
          "choropleth": [
           {
            "colorbar": {
             "outlinewidth": 0,
             "ticks": ""
            },
            "type": "choropleth"
           }
          ],
          "contour": [
           {
            "colorbar": {
             "outlinewidth": 0,
             "ticks": ""
            },
            "colorscale": [
             [
              0,
              "#0d0887"
             ],
             [
              0.1111111111111111,
              "#46039f"
             ],
             [
              0.2222222222222222,
              "#7201a8"
             ],
             [
              0.3333333333333333,
              "#9c179e"
             ],
             [
              0.4444444444444444,
              "#bd3786"
             ],
             [
              0.5555555555555556,
              "#d8576b"
             ],
             [
              0.6666666666666666,
              "#ed7953"
             ],
             [
              0.7777777777777778,
              "#fb9f3a"
             ],
             [
              0.8888888888888888,
              "#fdca26"
             ],
             [
              1,
              "#f0f921"
             ]
            ],
            "type": "contour"
           }
          ],
          "contourcarpet": [
           {
            "colorbar": {
             "outlinewidth": 0,
             "ticks": ""
            },
            "type": "contourcarpet"
           }
          ],
          "heatmap": [
           {
            "colorbar": {
             "outlinewidth": 0,
             "ticks": ""
            },
            "colorscale": [
             [
              0,
              "#0d0887"
             ],
             [
              0.1111111111111111,
              "#46039f"
             ],
             [
              0.2222222222222222,
              "#7201a8"
             ],
             [
              0.3333333333333333,
              "#9c179e"
             ],
             [
              0.4444444444444444,
              "#bd3786"
             ],
             [
              0.5555555555555556,
              "#d8576b"
             ],
             [
              0.6666666666666666,
              "#ed7953"
             ],
             [
              0.7777777777777778,
              "#fb9f3a"
             ],
             [
              0.8888888888888888,
              "#fdca26"
             ],
             [
              1,
              "#f0f921"
             ]
            ],
            "type": "heatmap"
           }
          ],
          "histogram": [
           {
            "marker": {
             "pattern": {
              "fillmode": "overlay",
              "size": 10,
              "solidity": 0.2
             }
            },
            "type": "histogram"
           }
          ],
          "histogram2d": [
           {
            "colorbar": {
             "outlinewidth": 0,
             "ticks": ""
            },
            "colorscale": [
             [
              0,
              "#0d0887"
             ],
             [
              0.1111111111111111,
              "#46039f"
             ],
             [
              0.2222222222222222,
              "#7201a8"
             ],
             [
              0.3333333333333333,
              "#9c179e"
             ],
             [
              0.4444444444444444,
              "#bd3786"
             ],
             [
              0.5555555555555556,
              "#d8576b"
             ],
             [
              0.6666666666666666,
              "#ed7953"
             ],
             [
              0.7777777777777778,
              "#fb9f3a"
             ],
             [
              0.8888888888888888,
              "#fdca26"
             ],
             [
              1,
              "#f0f921"
             ]
            ],
            "type": "histogram2d"
           }
          ],
          "histogram2dcontour": [
           {
            "colorbar": {
             "outlinewidth": 0,
             "ticks": ""
            },
            "colorscale": [
             [
              0,
              "#0d0887"
             ],
             [
              0.1111111111111111,
              "#46039f"
             ],
             [
              0.2222222222222222,
              "#7201a8"
             ],
             [
              0.3333333333333333,
              "#9c179e"
             ],
             [
              0.4444444444444444,
              "#bd3786"
             ],
             [
              0.5555555555555556,
              "#d8576b"
             ],
             [
              0.6666666666666666,
              "#ed7953"
             ],
             [
              0.7777777777777778,
              "#fb9f3a"
             ],
             [
              0.8888888888888888,
              "#fdca26"
             ],
             [
              1,
              "#f0f921"
             ]
            ],
            "type": "histogram2dcontour"
           }
          ],
          "mesh3d": [
           {
            "colorbar": {
             "outlinewidth": 0,
             "ticks": ""
            },
            "type": "mesh3d"
           }
          ],
          "parcoords": [
           {
            "line": {
             "colorbar": {
              "outlinewidth": 0,
              "ticks": ""
             }
            },
            "type": "parcoords"
           }
          ],
          "pie": [
           {
            "automargin": true,
            "type": "pie"
           }
          ],
          "scatter": [
           {
            "fillpattern": {
             "fillmode": "overlay",
             "size": 10,
             "solidity": 0.2
            },
            "type": "scatter"
           }
          ],
          "scatter3d": [
           {
            "line": {
             "colorbar": {
              "outlinewidth": 0,
              "ticks": ""
             }
            },
            "marker": {
             "colorbar": {
              "outlinewidth": 0,
              "ticks": ""
             }
            },
            "type": "scatter3d"
           }
          ],
          "scattercarpet": [
           {
            "marker": {
             "colorbar": {
              "outlinewidth": 0,
              "ticks": ""
             }
            },
            "type": "scattercarpet"
           }
          ],
          "scattergeo": [
           {
            "marker": {
             "colorbar": {
              "outlinewidth": 0,
              "ticks": ""
             }
            },
            "type": "scattergeo"
           }
          ],
          "scattergl": [
           {
            "marker": {
             "colorbar": {
              "outlinewidth": 0,
              "ticks": ""
             }
            },
            "type": "scattergl"
           }
          ],
          "scattermap": [
           {
            "marker": {
             "colorbar": {
              "outlinewidth": 0,
              "ticks": ""
             }
            },
            "type": "scattermap"
           }
          ],
          "scattermapbox": [
           {
            "marker": {
             "colorbar": {
              "outlinewidth": 0,
              "ticks": ""
             }
            },
            "type": "scattermapbox"
           }
          ],
          "scatterpolar": [
           {
            "marker": {
             "colorbar": {
              "outlinewidth": 0,
              "ticks": ""
             }
            },
            "type": "scatterpolar"
           }
          ],
          "scatterpolargl": [
           {
            "marker": {
             "colorbar": {
              "outlinewidth": 0,
              "ticks": ""
             }
            },
            "type": "scatterpolargl"
           }
          ],
          "scatterternary": [
           {
            "marker": {
             "colorbar": {
              "outlinewidth": 0,
              "ticks": ""
             }
            },
            "type": "scatterternary"
           }
          ],
          "surface": [
           {
            "colorbar": {
             "outlinewidth": 0,
             "ticks": ""
            },
            "colorscale": [
             [
              0,
              "#0d0887"
             ],
             [
              0.1111111111111111,
              "#46039f"
             ],
             [
              0.2222222222222222,
              "#7201a8"
             ],
             [
              0.3333333333333333,
              "#9c179e"
             ],
             [
              0.4444444444444444,
              "#bd3786"
             ],
             [
              0.5555555555555556,
              "#d8576b"
             ],
             [
              0.6666666666666666,
              "#ed7953"
             ],
             [
              0.7777777777777778,
              "#fb9f3a"
             ],
             [
              0.8888888888888888,
              "#fdca26"
             ],
             [
              1,
              "#f0f921"
             ]
            ],
            "type": "surface"
           }
          ],
          "table": [
           {
            "cells": {
             "fill": {
              "color": "#EBF0F8"
             },
             "line": {
              "color": "white"
             }
            },
            "header": {
             "fill": {
              "color": "#C8D4E3"
             },
             "line": {
              "color": "white"
             }
            },
            "type": "table"
           }
          ]
         },
         "layout": {
          "annotationdefaults": {
           "arrowcolor": "#2a3f5f",
           "arrowhead": 0,
           "arrowwidth": 1
          },
          "autotypenumbers": "strict",
          "coloraxis": {
           "colorbar": {
            "outlinewidth": 0,
            "ticks": ""
           }
          },
          "colorscale": {
           "diverging": [
            [
             0,
             "#8e0152"
            ],
            [
             0.1,
             "#c51b7d"
            ],
            [
             0.2,
             "#de77ae"
            ],
            [
             0.3,
             "#f1b6da"
            ],
            [
             0.4,
             "#fde0ef"
            ],
            [
             0.5,
             "#f7f7f7"
            ],
            [
             0.6,
             "#e6f5d0"
            ],
            [
             0.7,
             "#b8e186"
            ],
            [
             0.8,
             "#7fbc41"
            ],
            [
             0.9,
             "#4d9221"
            ],
            [
             1,
             "#276419"
            ]
           ],
           "sequential": [
            [
             0,
             "#0d0887"
            ],
            [
             0.1111111111111111,
             "#46039f"
            ],
            [
             0.2222222222222222,
             "#7201a8"
            ],
            [
             0.3333333333333333,
             "#9c179e"
            ],
            [
             0.4444444444444444,
             "#bd3786"
            ],
            [
             0.5555555555555556,
             "#d8576b"
            ],
            [
             0.6666666666666666,
             "#ed7953"
            ],
            [
             0.7777777777777778,
             "#fb9f3a"
            ],
            [
             0.8888888888888888,
             "#fdca26"
            ],
            [
             1,
             "#f0f921"
            ]
           ],
           "sequentialminus": [
            [
             0,
             "#0d0887"
            ],
            [
             0.1111111111111111,
             "#46039f"
            ],
            [
             0.2222222222222222,
             "#7201a8"
            ],
            [
             0.3333333333333333,
             "#9c179e"
            ],
            [
             0.4444444444444444,
             "#bd3786"
            ],
            [
             0.5555555555555556,
             "#d8576b"
            ],
            [
             0.6666666666666666,
             "#ed7953"
            ],
            [
             0.7777777777777778,
             "#fb9f3a"
            ],
            [
             0.8888888888888888,
             "#fdca26"
            ],
            [
             1,
             "#f0f921"
            ]
           ]
          },
          "colorway": [
           "#636efa",
           "#EF553B",
           "#00cc96",
           "#ab63fa",
           "#FFA15A",
           "#19d3f3",
           "#FF6692",
           "#B6E880",
           "#FF97FF",
           "#FECB52"
          ],
          "font": {
           "color": "#2a3f5f"
          },
          "geo": {
           "bgcolor": "white",
           "lakecolor": "white",
           "landcolor": "white",
           "showlakes": true,
           "showland": true,
           "subunitcolor": "#C8D4E3"
          },
          "hoverlabel": {
           "align": "left"
          },
          "hovermode": "closest",
          "mapbox": {
           "style": "light"
          },
          "paper_bgcolor": "white",
          "plot_bgcolor": "white",
          "polar": {
           "angularaxis": {
            "gridcolor": "#EBF0F8",
            "linecolor": "#EBF0F8",
            "ticks": ""
           },
           "bgcolor": "white",
           "radialaxis": {
            "gridcolor": "#EBF0F8",
            "linecolor": "#EBF0F8",
            "ticks": ""
           }
          },
          "scene": {
           "xaxis": {
            "backgroundcolor": "white",
            "gridcolor": "#DFE8F3",
            "gridwidth": 2,
            "linecolor": "#EBF0F8",
            "showbackground": true,
            "ticks": "",
            "zerolinecolor": "#EBF0F8"
           },
           "yaxis": {
            "backgroundcolor": "white",
            "gridcolor": "#DFE8F3",
            "gridwidth": 2,
            "linecolor": "#EBF0F8",
            "showbackground": true,
            "ticks": "",
            "zerolinecolor": "#EBF0F8"
           },
           "zaxis": {
            "backgroundcolor": "white",
            "gridcolor": "#DFE8F3",
            "gridwidth": 2,
            "linecolor": "#EBF0F8",
            "showbackground": true,
            "ticks": "",
            "zerolinecolor": "#EBF0F8"
           }
          },
          "shapedefaults": {
           "line": {
            "color": "#2a3f5f"
           }
          },
          "ternary": {
           "aaxis": {
            "gridcolor": "#DFE8F3",
            "linecolor": "#A2B1C6",
            "ticks": ""
           },
           "baxis": {
            "gridcolor": "#DFE8F3",
            "linecolor": "#A2B1C6",
            "ticks": ""
           },
           "bgcolor": "white",
           "caxis": {
            "gridcolor": "#DFE8F3",
            "linecolor": "#A2B1C6",
            "ticks": ""
           }
          },
          "title": {
           "x": 0.05
          },
          "xaxis": {
           "automargin": true,
           "gridcolor": "#EBF0F8",
           "linecolor": "#EBF0F8",
           "ticks": "",
           "title": {
            "standoff": 15
           },
           "zerolinecolor": "#EBF0F8",
           "zerolinewidth": 2
          },
          "yaxis": {
           "automargin": true,
           "gridcolor": "#EBF0F8",
           "linecolor": "#EBF0F8",
           "ticks": "",
           "title": {
            "standoff": 15
           },
           "zerolinecolor": "#EBF0F8",
           "zerolinewidth": 2
          }
         }
        },
        "title": {
         "text": "Quarterly Sentiment Trend (Australian Artists)"
        },
        "xaxis": {
         "anchor": "y",
         "domain": [
          0,
          1
         ],
         "fixedrange": true,
         "tickangle": -45,
         "title": {
          "text": "Quarter"
         }
        },
        "yaxis": {
         "anchor": "x",
         "domain": [
          0,
          1
         ],
         "range": [
          -2,
          2
         ],
         "title": {
          "text": "Sentiment Score"
         }
        }
       }
      }
     },
     "metadata": {},
     "output_type": "display_data"
    }
   ],
   "source": [
    "def preprocess_scores(detailed_scores):\n",
    "    \"\"\"\n",
    "    Converts detailed_scores into:\n",
    "    { artist: [(month_str, score), ...] }\n",
    "    \"\"\"\n",
    "    simplified = {}\n",
    "    for artist, posts in detailed_scores.items():\n",
    "        simplified[artist] = []\n",
    "        for post in posts.values():\n",
    "            score = post[4]\n",
    "            date_str = post[5]\n",
    "            if date_str:\n",
    "                try:\n",
    "                    month_str = datetime.strptime(date_str, \"%Y-%m-%d\").strftime(\"%Y-%m\")\n",
    "                    simplified[artist].append((month_str, score))\n",
    "                except Exception:\n",
    "                    continue\n",
    "    return simplified\n",
    "\n",
    "def convert_to_dataframe(simplified_scores):\n",
    "    records = []\n",
    "    for artist, data in simplified_scores.items():\n",
    "        for month, score in data:\n",
    "            records.append({'artist': artist, 'month': month, 'sentiment': score})\n",
    "    return pandas.DataFrame(records)\n",
    "\n",
    "def get_quarter_label(date_obj):\n",
    "    quarter = (date_obj.month - 1) // 3 + 1\n",
    "    return f\"{date_obj.year}S{quarter}\"\n",
    "\n",
    "def average_by_quarter(df, start_month, end_month):\n",
    "    df['month'] = pandas.to_datetime(df['month'])\n",
    "    df['quarter'] = df['month'].apply(get_quarter_label)\n",
    "\n",
    "    grouped = df.groupby(['artist', 'quarter'])['sentiment'].mean().reset_index()\n",
    "\n",
    "    quarters = []\n",
    "    current = start_month\n",
    "    while current <= end_month:\n",
    "        quarters.append(get_quarter_label(current))\n",
    "        current += relativedelta(months=3)\n",
    "    full_index = pandas.MultiIndex.from_product(\n",
    "        [grouped['artist'].unique(), quarters],\n",
    "        names=['artist', 'quarter']\n",
    "    )\n",
    "    grouped = grouped.set_index(['artist', 'quarter']).reindex(full_index, fill_value=0).reset_index()\n",
    "    return grouped\n",
    "\n",
    "def plot_interactive(df, title):\n",
    "    fig = px.line(\n",
    "        df,\n",
    "        x='quarter',\n",
    "        y='sentiment',\n",
    "        color='artist',\n",
    "        markers=True,\n",
    "        title=title,\n",
    "        labels={\"sentiment\": \"Sentiment Score\", \"quarter\": \"Quarter\"},\n",
    "        template=\"plotly_white\"\n",
    "    )\n",
    "    fig.update_layout(\n",
    "        yaxis=dict(range=[-2, 2]),\n",
    "        xaxis=dict(fixedrange=True),\n",
    "        dragmode=False,\n",
    "        xaxis_tickangle=-45,\n",
    "        legend_title=\"Artist (click to show/hide)\",\n",
    "        height=500\n",
    "    )\n",
    "    fig.show()\n",
    "\n",
    "start_month = datetime.strptime(\"2022-10\", \"%Y-%m\")\n",
    "end_month = datetime.strptime(\"2025-05\", \"%Y-%m\")\n",
    "\n",
    "simplified_global = preprocess_scores(detailed_scores)\n",
    "simplified_au = preprocess_scores(detailed_scores_au)\n",
    "\n",
    "# Convert to DataFrame and find quarterly averages\n",
    "df_global = convert_to_dataframe(simplified_global)\n",
    "df_avg_global = average_by_quarter(df_global, start_month, end_month)\n",
    "\n",
    "df_au = convert_to_dataframe(simplified_au)\n",
    "df_avg_au = average_by_quarter(df_au, start_month, end_month)\n",
    "\n",
    "# Plot\n",
    "plot_interactive(df_avg_global, \"Quarterly Sentiment Trend (Global Artists)\")\n",
    "plot_interactive(df_avg_au, \"Quarterly Sentiment Trend (Australian Artists)\")"
   ]
  }
 ],
 "metadata": {
  "kernelspec": {
   "display_name": "myenv",
   "language": "python",
   "name": "python3"
  },
  "language_info": {
   "codemirror_mode": {
    "name": "ipython",
    "version": 3
   },
   "file_extension": ".py",
   "mimetype": "text/x-python",
   "name": "python",
   "nbconvert_exporter": "python",
   "pygments_lexer": "ipython3",
   "version": "3.11.12"
  }
 },
 "nbformat": 4,
 "nbformat_minor": 5
}
